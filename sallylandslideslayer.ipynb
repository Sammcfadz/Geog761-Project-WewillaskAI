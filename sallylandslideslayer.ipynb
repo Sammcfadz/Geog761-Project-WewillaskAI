{
  "nbformat": 4,
  "nbformat_minor": 0,
  "metadata": {
    "colab": {
      "provenance": [],
      "mount_file_id": "1CbK6DfsUC0Yk9UotnRX2ruwlR8mA6_Qa",
      "authorship_tag": "ABX9TyP6HNHZHCLmDiCSpFtJzRC0",
      "include_colab_link": true
    },
    "kernelspec": {
      "name": "python3",
      "display_name": "Python 3"
    },
    "language_info": {
      "name": "python"
    }
  },
  "cells": [
    {
      "cell_type": "markdown",
      "metadata": {
        "id": "view-in-github",
        "colab_type": "text"
      },
      "source": [
        "<a href=\"https://colab.research.google.com/github/Sammcfadz/Geog761-Project-WewillaskAI/blob/main/sallylandslideslayer.ipynb\" target=\"_parent\"><img src=\"https://colab.research.google.com/assets/colab-badge.svg\" alt=\"Open In Colab\"/></a>"
      ]
    },
    {
      "cell_type": "markdown",
      "source": [
        "setting up this thing"
      ],
      "metadata": {
        "id": "D1zGE2cSqF8b"
      }
    },
    {
      "cell_type": "code",
      "execution_count": null,
      "metadata": {
        "id": "c9JFCuTacUF6"
      },
      "outputs": [],
      "source": [
        "# Set up GEE API\n",
        "import ee\n",
        "ee.Authenticate()\n",
        "ee.Initialize(project='lab-1-761')"
      ]
    },
    {
      "cell_type": "markdown",
      "source": [
        "still setting up"
      ],
      "metadata": {
        "id": "63VGKtmGqOST"
      }
    },
    {
      "cell_type": "code",
      "execution_count": null,
      "metadata": {
        "id": "QRbBUHL94ybK"
      },
      "outputs": [],
      "source": [
        "# Our usual set up routine\n",
        "!pip install geemap --quiet\n",
        "\n",
        "import geemap\n",
        "import geopandas as gpd\n",
        "import pandas as pd\n",
        "import matplotlib.pyplot as plt\n",
        "import numpy as np\n",
        "import seaborn as sns\n",
        "from sklearn.cluster import KMeans\n",
        "\n",
        "#<- Remember to change this to your own project's name!"
      ]
    },
    {
      "cell_type": "code",
      "source": [
        "import geemap"
      ],
      "metadata": {
        "id": "MD1USx0wdLS9"
      },
      "execution_count": null,
      "outputs": []
    },
    {
      "cell_type": "markdown",
      "source": [
        "tifffile of landslide polygons cut to auckland"
      ],
      "metadata": {
        "id": "xORs4Emvz-XR"
      }
    },
    {
      "cell_type": "code",
      "metadata": {
        "id": "391f48d0"
      },
      "source": [
        "from google.colab import drive\n",
        "drive.mount('/content/drive')"
      ],
      "execution_count": null,
      "outputs": []
    },
    {
      "cell_type": "markdown",
      "source": [],
      "metadata": {
        "id": "Onr65TbV25hK"
      }
    },
    {
      "cell_type": "markdown",
      "metadata": {
        "id": "6c66ee9a"
      },
      "source": [
        "To upload assets using the Earth Engine command-line tool, you'll need to have it installed and authenticated.\n",
        "\n",
        "1.  **Install the Earth Engine command-line tool:**\n",
        "    You can install it using pip:"
      ]
    },
    {
      "cell_type": "code",
      "source": [
        "# Define area of interest (e.g., Auckland, NZ)\n",
        "# Adjusted coordinates to cover a wider area of Auckland and a little bit more south\n",
        "# TODO: Please verify and adjust these coordinates to define your desired AOI.\n",
        "aoi = ee.Geometry.Rectangle([174.1, -37.3, 175.5, -36.0]) # Adjusted southern coordinate\n",
        "Map = geemap.Map(center=[-36.85, 174.75], zoom=9) # Centered on Auckland\n",
        "Map.addLayer(aoi, {}, 'AOI')\n",
        "\n",
        "# Visualize on the map to check got it right... (always a good idea)\n",
        "Map"
      ],
      "metadata": {
        "id": "IWdyWgx_dDs5"
      },
      "execution_count": null,
      "outputs": []
    },
    {
      "cell_type": "code",
      "metadata": {
        "id": "09c4fd46"
      },
      "source": [
        "import ee\n",
        "\n",
        "# Make sure Earth Engine is initialized with your project\n",
        "# If not, run cell c9JFCuTacUF6 after replacing 'lab-1-761' with your project ID\n",
        "\n",
        "# Load the Earth Engine asset\n",
        "map4_image = ee.Image('projects/lab-1-761/assets/Map4')\n",
        "\n",
        "# You can now use the 'map4_image' variable in your Earth Engine computations and visualizations\n",
        "# For example, to print information about the image:\n",
        "print('Map4 Image Info:', map4_image.getInfo())"
      ],
      "execution_count": null,
      "outputs": []
    },
    {
      "cell_type": "code",
      "source": [
        "# Set up your filter Sentinel-2 imagery\n",
        "# A function that masks clouds in your S2 images via QA band\n",
        "def mask_s2_clouds(image):\n",
        "    qa = image.select('QA60')\n",
        "    cloudBitMask = 1 << 10\n",
        "    cirrusBitMask = 1 << 11\n",
        "    mask = qa.bitwiseAnd(cloudBitMask).eq(0).And(\n",
        "           qa.bitwiseAnd(cirrusBitMask).eq(0))\n",
        "    return image.updateMask(mask).divide(10000).select(['B2', 'B3', 'B4', 'B8'])\n",
        "\n",
        "# Now build the clean collection with selected bands\n",
        "s2_collection = (ee.ImageCollection('COPERNICUS/S2_SR_HARMONIZED')\n",
        "      .filterBounds(aoi)\n",
        "      .filterDate('2023-02-01', '2023-03-20')\n",
        "      .filter(ee.Filter.lt('CLOUDY_PIXEL_PERCENTAGE', 10))\n",
        "      .map(mask_s2_clouds))\n",
        "\n",
        "# Check the number of images in the collection\n",
        "print('Number of images in the collection:', s2_collection.size().getInfo())\n",
        "\n",
        "s2 = s2_collection.median().clip(aoi) #<- think about this step and what it is doing to your image when you build your single composite from the image collection\n",
        "\n",
        "# Print the min and max pixel values to help with visualization\n",
        "print('Min pixel value:', s2.reduceRegion(reducer=ee.Reducer.min(), geometry=aoi, scale=1000, maxPixels=1e9).getInfo())\n",
        "print('Max pixel value:', s2.reduceRegion(reducer=ee.Reducer.max(), geometry=aoi, scale=1000, maxPixels=1e9).getInfo())\n",
        "\n",
        "# Print image information\n",
        "print('Image information:', s2.getInfo())\n",
        "\n",
        "\n",
        "bands = ['B2', 'B3', 'B4', 'B8', 'B11', 'B12']\n",
        "band_names = {\n",
        "    'B2': 'Blue (0.45–0.52 μm)',\n",
        "    'B3': 'Green (0.52–0.60 μm)',\n",
        "    'B4': 'Red (0.63–0.69 μm)',\n",
        "    'B8': 'NIR (0.77–0.90 μm)',\n",
        "    'B11': 'SWIR1 (1.55–1.75 μm)',\n",
        "    'B12': 'SWIR2 (2.09–2.35 μm)'\n",
        "}\n",
        "scale_factor = 0.0001\n",
        "\n",
        "# Create a dictionary for visualization parameters\n",
        "vis_params = {\n",
        "    'bands': ['B4', 'B3', 'B2'],  # Using B4, B3, B2 for true color composite\n",
        "    'min': 0.0, # Adjusted min\n",
        "    'max': 0.5,  # Adjusted max based on common scaled values\n",
        "    'gamma': 1.9\n",
        "}\n",
        "\n",
        "\n",
        "Map = geemap.Map(center=[-36.85, 174.75], zoom=9) #<- reset the map object to clear out other layers from earlier cells, centered on Auckland\n",
        "Map.addLayer(s2, vis_params, 'hello')\n",
        "Map.addLayer(aoi, {'color': 'red'}, 'AOI')\n",
        "Map.centerObject(aoi, zoom=9)\n",
        "Map"
      ],
      "metadata": {
        "id": "mkYl36KRNyRd"
      },
      "execution_count": null,
      "outputs": []
    },
    {
      "cell_type": "markdown",
      "source": [
        "remove clouds from image for processing"
      ],
      "metadata": {
        "id": "b82EZyrexSnK"
      }
    },
    {
      "cell_type": "code",
      "source": [
        "\n",
        "AOI = ee.Geometry.Point(174.7633, -36.8485)\n",
        "START_DATE = '2023-02-01'\n",
        "END_DATE = '2023-03-20'\n",
        "CLOUD_FILTER = 60\n",
        "CLD_PRB_THRESH = 50\n",
        "NIR_DRK_THRESH = 0.14\n",
        "CLD_PRJ_DIST = 1\n",
        "BUFFER = 5"
      ],
      "metadata": {
        "id": "IOsumSJ5xSYy"
      },
      "execution_count": null,
      "outputs": []
    },
    {
      "cell_type": "markdown",
      "source": [
        "\n",
        "2nd step of cloud removing\n",
        "\n"
      ],
      "metadata": {
        "id": "ahUMM10INzn-"
      }
    },
    {
      "cell_type": "code",
      "source": [
        "def get_s2_sr_cld_col(aoi, start_date, end_date):\n",
        "    # Import and filter S2 SR.\n",
        "    s2_sr_col = (ee.ImageCollection('COPERNICUS/S2_SR_HARMONIZED')\n",
        "        .filterBounds(aoi)\n",
        "        .filterDate(start_date, end_date)\n",
        "        .filter(ee.Filter.lte('CLOUDY_PIXEL_PERCENTAGE', CLOUD_FILTER)))\n",
        "\n",
        "    # Import and filter s2cloudless.\n",
        "    s2_cloudless_col = (ee.ImageCollection('COPERNICUS/S2_CLOUD_PROBABILITY')\n",
        "        .filterBounds(aoi)\n",
        "        .filterDate(start_date, end_date))\n",
        "\n",
        "    # Join the filtered s2cloudless collection to the SR collection by the 'system:index' property.\n",
        "    return ee.ImageCollection(ee.Join.saveFirst('s2cloudless').apply(**{\n",
        "        'primary': s2_sr_col,\n",
        "        'secondary': s2_cloudless_col,\n",
        "        'condition': ee.Filter.equals(**{\n",
        "            'leftField': 'system:index',\n",
        "            'rightField': 'system:index'\n",
        "        })\n",
        "    }))\n",
        "\n",
        "\n",
        "\n",
        "s2_sr_cld_col_eval = get_s2_sr_cld_col(aoi, START_DATE, END_DATE)"
      ],
      "metadata": {
        "id": "hOlVPkEZN3D9"
      },
      "execution_count": null,
      "outputs": []
    },
    {
      "cell_type": "code",
      "source": [
        "Map = geemap.Map()\n",
        "Map.centerObject(aoi, 10)\n",
        "# Take the median of the collection and clip it to the AOI\n",
        "clipped_s2_image = s2_sr_cld_col_eval.median().clip(aoi)\n",
        "Map.addLayer(clipped_s2_image, {'bands':['B4','B3','B2'], 'min':0, 'max':3000}, 'S2 collection (clipped)')\n",
        "Map.addLayer(aoi, {'color': 'red'}, 'AOI')\n",
        "\n",
        "Map"
      ],
      "metadata": {
        "id": "oJy8aeVvOHuc"
      },
      "execution_count": null,
      "outputs": []
    },
    {
      "cell_type": "markdown",
      "source": [
        "3rd step of cloud processing"
      ],
      "metadata": {
        "id": "GGdxhN1TQjMb"
      }
    },
    {
      "cell_type": "code",
      "source": [
        "def add_cloud_bands(img):\n",
        "    # Get s2cloudless image, subset the probability band.\n",
        "    cld_prb = ee.Image(img.get('s2cloudless')).select('probability')\n",
        "\n",
        "    # Condition s2cloudless by the probability threshold value.\n",
        "    is_cloud = cld_prb.gt(CLD_PRB_THRESH).rename('clouds')\n",
        "\n",
        "    # Add the cloud probability layer and cloud mask as image bands.\n",
        "    return img.addBands(ee.Image([cld_prb, is_cloud]))\n",
        "\n",
        "\n",
        "\n",
        "\n",
        "def add_shadow_bands(img):\n",
        "    # Identify water pixels from the SCL band.\n",
        "    not_water = img.select('SCL').neq(6)\n",
        "\n",
        "    # Identify dark NIR pixels that are not water (potential cloud shadow pixels).\n",
        "    SR_BAND_SCALE = 1e4\n",
        "    dark_pixels = img.select('B8').lt(NIR_DRK_THRESH*SR_BAND_SCALE).multiply(not_water).rename('dark_pixels')\n",
        "\n",
        "    # Determine the direction to project cloud shadow from clouds (assumes UTM projection).\n",
        "    shadow_azimuth = ee.Number(90).subtract(ee.Number(img.get('MEAN_SOLAR_AZIMUTH_ANGLE')));\n",
        "\n",
        "    # Project shadows from clouds for the distance specified by the CLD_PRJ_DIST input.\n",
        "    cld_proj = (img.select('clouds').directionalDistanceTransform(shadow_azimuth, CLD_PRJ_DIST*10)\n",
        "        .reproject(**{'crs': img.select(0).projection(), 'scale': 100})\n",
        "        .select('distance')\n",
        "        .mask()\n",
        "        .rename('cloud_transform'))\n",
        "\n",
        "    # Identify the intersection of dark pixels with cloud shadow projection.\n",
        "    shadows = cld_proj.multiply(dark_pixels).rename('shadows')\n",
        "\n",
        "    # Add dark pixels, cloud projection, and identified shadows as image bands.\n",
        "    return img.addBands(ee.Image([dark_pixels, cld_proj, shadows]))\n",
        "\n",
        "\n",
        "\n",
        "def add_cld_shdw_mask(img):\n",
        "    # Add cloud component bands.\n",
        "    img_cloud = add_cloud_bands(img)\n",
        "\n",
        "    # Add cloud shadow component bands.\n",
        "    img_cloud_shadow = add_shadow_bands(img_cloud)\n",
        "\n",
        "    # Combine cloud and shadow mask, set cloud and shadow as value 1, else 0.\n",
        "    is_cld_shdw = img_cloud_shadow.select('clouds').add(img_cloud_shadow.select('shadows')).gt(0)\n",
        "\n",
        "    # Remove small cloud-shadow patches and dilate remaining pixels by BUFFER input.\n",
        "    # 20 m scale is for speed, and assumes clouds don't require 10 m precision.\n",
        "    is_cld_shdw = (is_cld_shdw.focalMin(2).focalMax(BUFFER*2/20)\n",
        "        .reproject(**{'crs': img.select([0]).projection(), 'scale': 20})\n",
        "        .rename('cloudmask'))\n",
        "\n",
        "    # Add the final cloud-shadow mask to the image.\n",
        "    return img_cloud_shadow.addBands(is_cld_shdw)"
      ],
      "metadata": {
        "id": "8ZRDnsjgQmXR"
      },
      "execution_count": null,
      "outputs": []
    },
    {
      "cell_type": "markdown",
      "source": [
        "4th step of cloud processing"
      ],
      "metadata": {
        "id": "O9npC3HvQ5Iy"
      }
    },
    {
      "cell_type": "code",
      "source": [
        "def display_cloud_layers_geemap(col, AOI):\n",
        "    # Mosaic the image collection.\n",
        "    img = col.mosaic()\n",
        "\n",
        "    # Clip the mosaicked image to the AOI\n",
        "    clipped_img = img.clip(aoi)\n",
        "\n",
        "\n",
        "    # Subset layers and prepare them for display.\n",
        "    clouds = clipped_img.select('clouds').selfMask()\n",
        "    shadows = clipped_img.select('shadows').selfMask()\n",
        "    dark_pixels = clipped_img.select('dark_pixels').selfMask()\n",
        "    probability = clipped_img.select('probability')\n",
        "    cloudmask = clipped_img.select('cloudmask').selfMask()\n",
        "    cloud_transform = clipped_img.select('cloud_transform')\n",
        "\n",
        "    # Create a geemap Map object centered on AOI.\n",
        "    m = geemap.Map()\n",
        "    m.centerObject(AOI, 12)\n",
        "\n",
        "    # Add layers\n",
        "    m.addLayer(clipped_img, {'bands': ['B4', 'B3', 'B2'], 'min': 0, 'max': 2500, 'gamma': 1.1}, 'S2 image (clipped)')\n",
        "    m.addLayer(probability, {'min': 0, 'max': 100}, 'probability (cloud)')\n",
        "    m.addLayer(clouds, {'palette': ['e056fd']}, 'clouds')\n",
        "    m.addLayer(cloud_transform, {'min': 0, 'max': 1, 'palette': ['white', 'black']}, 'cloud_transform')\n",
        "    m.addLayer(dark_pixels, {'palette': ['orange']}, 'dark_pixels')\n",
        "    m.addLayer(shadows, {'palette': ['yellow']}, 'shadows')\n",
        "    m.addLayer(cloudmask, {'palette': ['orange']}, 'cloudmask')\n",
        "\n",
        "    return m\n",
        "\n",
        "\n",
        "\n",
        "s2_sr_cld_col_eval_disp = s2_sr_cld_col_eval.map(add_cld_shdw_mask)\n",
        "display_map = display_cloud_layers_geemap(s2_sr_cld_col_eval_disp, AOI)\n",
        "display_map"
      ],
      "metadata": {
        "id": "k5i0hw_wQ7ko"
      },
      "execution_count": null,
      "outputs": []
    },
    {
      "cell_type": "markdown",
      "source": [
        "next part here we go"
      ],
      "metadata": {
        "id": "4s5HWK0jSC6o"
      }
    },
    {
      "cell_type": "code",
      "source": [
        "def apply_cld_shdw_mask(img):\n",
        "    cloudmask = img.select('cloudmask')\n",
        "    # Mask cloudy pixels\n",
        "    masked_img = img.updateMask(cloudmask.Not())\n",
        "    # Keep cloudmask and probability bands\n",
        "    cloudmask_band = img.select('cloudmask')\n",
        "    probability_band = img.select('probability')\n",
        "    masked_img = masked_img.addBands([cloudmask_band, probability_band], overwrite=True)\n",
        "    return masked_img\n",
        "\n",
        "s2_sr_cld_col = get_s2_sr_cld_col(aoi, START_DATE, END_DATE)\n",
        "\n",
        "s2_sr_median = (s2_sr_cld_col.map(add_cld_shdw_mask)\n",
        "                             .map(apply_cld_shdw_mask)\n",
        "                             .median())\n",
        "\n",
        "\n",
        "\n",
        "\n",
        "def display_cloud_free_mosaic(s2_sr_median, AOI):\n",
        "    # Create a geemap Map object and center it on the AOI\n",
        "    m = geemap.Map()\n",
        "    m.centerObject(AOI, 12)\n",
        "\n",
        "    # Clip the image to the AOI before adding it to the map\n",
        "    clipped_s2_sr_median = s2_sr_median.clip(aoi)\n",
        "\n",
        "    # Add the Sentinel-2 RGB mosaic\n",
        "    m.addLayer(\n",
        "        clipped_s2_sr_median,\n",
        "        {'bands': ['B4', 'B3', 'B2'], 'min': 0, 'max': 2500, 'gamma': 1.5},\n",
        "        'S2 cloud-free mosaic')\n",
        "\n",
        "\n",
        "\n",
        "\n",
        "    # Add the Map4 image asset as a layer, applying selfMask to remove the black background\n",
        "    if 'map4_image' in globals() and isinstance(map4_image, ee.Image):\n",
        "        # You might need to adjust visualization parameters for Map4 image\n",
        "        # Replace {'bands': ['b1'], 'min': 0, 'max': 255} with appropriate vis_params for your Map4 data\n",
        "        m.addLayer(map4_image.selfMask(), {'bands': ['b4', 'b3', 'b2'], 'min': 0, 'max': 255}, 'Map4 Asset') # Added placeholder vis_params\n",
        "    else:\n",
        "        print(\"Warning: 'map4_image' not found or is not an Earth Engine image. Cannot add Map4 layer.\")\n",
        "\n",
        "    return m\n",
        "\n",
        "display_map = display_cloud_free_mosaic(s2_sr_median, aoi)\n",
        "display_map"
      ],
      "metadata": {
        "id": "9eN9PWupSE6L",
        "collapsed": true
      },
      "execution_count": null,
      "outputs": []
    },
    {
      "cell_type": "markdown",
      "source": [
        "export landsldie layer"
      ],
      "metadata": {
        "id": "aOgRIsISWny-"
      }
    },
    {
      "cell_type": "code",
      "source": [],
      "metadata": {
        "id": "AcQDvVbtWrS3"
      },
      "execution_count": null,
      "outputs": []
    }
  ]
}