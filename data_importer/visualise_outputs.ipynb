{
    "cells": [
        {
            "cell_type": "code",
            "execution_count": 1,
            "id": "135f6b41",
            "metadata": {},
            "outputs": [
                {
                    "name": "stdout",
                    "output_type": "stream",
                    "text": [
                        "Peter\n"
                    ]
                }
            ],
            "source": [
                "import ee\n",
                "# Initialize Earth Engine (you need to authenticate first)\n",
                "ee.Authenticate()\n",
                "user = \"Peter\"\n",
                "if user == \"Peter\":\n",
                "    ee.Initialize(project=\"geog761-peag224\")\n",
                "elif user == \"Sam\":\n",
                "    ee.Initialize(project=\"intricate-aria-467322-j0\")\n",
                "elif user == \"Someone\":\n",
                "    pass\n",
                "else:\n",
                "    print(\"MUST INTIALISE PLEASE ADD YOUR INITIALISATION\")\n",
                "    # PLEASE ADD YOUR INITIALISATIONS IN AN ELIF\n",
                "    \n",
                "print(user)"
            ]
        },
        {
            "cell_type": "code",
            "execution_count": 4,
            "id": "012825c0",
            "metadata": {},
            "outputs": [
                {
                    "data": {
                        "text/html": [
                            "\n",
                            "            <style>\n",
                            "                .geemap-dark {\n",
                            "                    --jp-widgets-color: white;\n",
                            "                    --jp-widgets-label-color: white;\n",
                            "                    --jp-ui-font-color1: white;\n",
                            "                    --jp-layout-color2: #454545;\n",
                            "                    background-color: #383838;\n",
                            "                }\n",
                            "\n",
                            "                .geemap-dark .jupyter-button {\n",
                            "                    --jp-layout-color3: #383838;\n",
                            "                }\n",
                            "\n",
                            "                .geemap-colab {\n",
                            "                    background-color: var(--colab-primary-surface-color, white);\n",
                            "                }\n",
                            "\n",
                            "                .geemap-colab .jupyter-button {\n",
                            "                    --jp-layout-color3: var(--colab-primary-surface-color, white);\n",
                            "                }\n",
                            "            </style>\n",
                            "            "
                        ],
                        "text/plain": [
                            "<IPython.core.display.HTML object>"
                        ]
                    },
                    "metadata": {},
                    "output_type": "display_data"
                }
            ],
            "source": [
                "from get_newest_data import *\n",
                "import geemap\n",
                "import json\n",
                "\n",
                "# akl_geom = ee.Geometry.Rectangle([174.9, -36.4, 175, -36.5])\n",
                "\n",
                "if user == \"Peter\":\n",
                "    geojson_path = r\"C:\\Users\\eagle\\OneDrive - The University of Auckland\\2025\\Semester 2\\GEOG 761\\Geog761-Project-WewillaskAI\\aklshp\\akl_mainland_only.geojson\"\n",
                "elif user == \"Sam\":\n",
                "    geojson_path = r\"C:\\_Uni\\2025 S2\\GEOG 761\\Geog761-Project-WewillaskAI\\aklshp\\akl_mainland_only.geojson\"\n",
                "\n",
                "# geojson_path = \"aklshp/auckland_shape.geojson\"\n",
                "# Load and parse the GeoJSON file\n",
                "with open(geojson_path) as f:\n",
                "    geojson_data = json.load(f)\n",
                "\n",
                "# Convert to Earth Engine Feature\n",
                "akl_geom = ee.Geometry(geojson_data['geometry'])"
            ]
        },
        {
            "cell_type": "code",
            "execution_count": 13,
            "id": "76728847",
            "metadata": {},
            "outputs": [
                {
                    "data": {
                        "text/html": [
                            "\n",
                            "            <style>\n",
                            "                .geemap-dark {\n",
                            "                    --jp-widgets-color: white;\n",
                            "                    --jp-widgets-label-color: white;\n",
                            "                    --jp-ui-font-color1: white;\n",
                            "                    --jp-layout-color2: #454545;\n",
                            "                    background-color: #383838;\n",
                            "                }\n",
                            "\n",
                            "                .geemap-dark .jupyter-button {\n",
                            "                    --jp-layout-color3: #383838;\n",
                            "                }\n",
                            "\n",
                            "                .geemap-colab {\n",
                            "                    background-color: var(--colab-primary-surface-color, white);\n",
                            "                }\n",
                            "\n",
                            "                .geemap-colab .jupyter-button {\n",
                            "                    --jp-layout-color3: var(--colab-primary-surface-color, white);\n",
                            "                }\n",
                            "            </style>\n",
                            "            "
                        ],
                        "text/plain": [
                            "<IPython.core.display.HTML object>"
                        ]
                    },
                    "metadata": {},
                    "output_type": "display_data"
                },
                {
                    "ename": "NameError",
                    "evalue": "name 'get_most_recent_sentinel2_auckland_ee' is not defined",
                    "output_type": "error",
                    "traceback": [
                        "\u001b[1;31m---------------------------------------------------------------------------\u001b[0m",
                        "\u001b[1;31mNameError\u001b[0m                                 Traceback (most recent call last)",
                        "Cell \u001b[1;32mIn[13], line 1\u001b[0m\n\u001b[1;32m----> 1\u001b[0m sentinel_2_image \u001b[38;5;241m=\u001b[39m get_most_recent_sentinel2_auckland_ee(geometry\u001b[38;5;241m=\u001b[39makl_geom)\n\u001b[0;32m      3\u001b[0m \u001b[38;5;28;01mif\u001b[39;00m sentinel_2_image \u001b[38;5;241m!=\u001b[39m \u001b[38;5;28;01mNone\u001b[39;00m:\n\u001b[0;32m      4\u001b[0m     vis_params \u001b[38;5;241m=\u001b[39m {\n\u001b[0;32m      5\u001b[0m         \u001b[38;5;124m\"\u001b[39m\u001b[38;5;124mbands\u001b[39m\u001b[38;5;124m\"\u001b[39m: [\u001b[38;5;124m\"\u001b[39m\u001b[38;5;124mB4\u001b[39m\u001b[38;5;124m\"\u001b[39m, \u001b[38;5;124m\"\u001b[39m\u001b[38;5;124mB3\u001b[39m\u001b[38;5;124m\"\u001b[39m, \u001b[38;5;124m\"\u001b[39m\u001b[38;5;124mB2\u001b[39m\u001b[38;5;124m\"\u001b[39m],  \u001b[38;5;66;03m# RGB\u001b[39;00m\n\u001b[0;32m      6\u001b[0m         \u001b[38;5;124m\"\u001b[39m\u001b[38;5;124mmin\u001b[39m\u001b[38;5;124m\"\u001b[39m: \u001b[38;5;241m0\u001b[39m,\n\u001b[0;32m      7\u001b[0m         \u001b[38;5;124m\"\u001b[39m\u001b[38;5;124mmax\u001b[39m\u001b[38;5;124m\"\u001b[39m: \u001b[38;5;241m3000\u001b[39m,\n\u001b[0;32m      8\u001b[0m         \u001b[38;5;124m\"\u001b[39m\u001b[38;5;124mgamma\u001b[39m\u001b[38;5;124m\"\u001b[39m: \u001b[38;5;241m1.4\u001b[39m,\n\u001b[0;32m      9\u001b[0m     }\n",
                        "\u001b[1;31mNameError\u001b[0m: name 'get_most_recent_sentinel2_auckland_ee' is not defined"
                    ]
                }
            ],
            "source": [
                "sentinel_2_image = get_newest_data(geometry=akl_geom)\n",
                "\n",
                "if sentinel_2_image != None:\n",
                "    vis_params = {\n",
                "        \"bands\": [\"B4\", \"B3\", \"B2\"],  # RGB\n",
                "        \"min\": 0,\n",
                "        \"max\": 3000,\n",
                "        \"gamma\": 1.4,\n",
                "    }\n",
                "    S2Map = geemap.Map(center=[-36.8, 174.9], zoom=10)\n",
                "    S2Map.addLayer(sentinel_2_image, vis_params, 'Sentinel-2 Auckland')\n",
                "    S2Map.addLayer(akl_geom, {'color': 'red'}, 'My GeoJSON')\n",
                "\n",
                "else:\n",
                "    print(\"Image = None\")"
            ]
        },
        {
            "cell_type": "code",
            "execution_count": null,
            "id": "c7deac7e",
            "metadata": {},
            "outputs": [
                {
                    "data": {
                        "text/html": [
                            "\n",
                            "            <style>\n",
                            "                .geemap-dark {\n",
                            "                    --jp-widgets-color: white;\n",
                            "                    --jp-widgets-label-color: white;\n",
                            "                    --jp-ui-font-color1: white;\n",
                            "                    --jp-layout-color2: #454545;\n",
                            "                    background-color: #383838;\n",
                            "                }\n",
                            "\n",
                            "                .geemap-dark .jupyter-button {\n",
                            "                    --jp-layout-color3: #383838;\n",
                            "                }\n",
                            "\n",
                            "                .geemap-colab {\n",
                            "                    background-color: var(--colab-primary-surface-color, white);\n",
                            "                }\n",
                            "\n",
                            "                .geemap-colab .jupyter-button {\n",
                            "                    --jp-layout-color3: var(--colab-primary-surface-color, white);\n",
                            "                }\n",
                            "            </style>\n",
                            "            "
                        ],
                        "text/plain": [
                            "<IPython.core.display.HTML object>"
                        ]
                    },
                    "metadata": {},
                    "output_type": "display_data"
                },
                {
                    "data": {
                        "application/vnd.jupyter.widget-view+json": {
                            "model_id": "2832288274004e3ab6e735e35e31a489",
                            "version_major": 2,
                            "version_minor": 0
                        },
                        "text/plain": [
                            "Map(center=[-36.8, 174.9], controls=(WidgetControl(options=['position', 'transparent_bg'], position='topright'…"
                        ]
                    },
                    "execution_count": 4,
                    "metadata": {},
                    "output_type": "execute_result"
                }
            ],
            "source": [
                "S2Map"
            ]
        },
        {
            "cell_type": "code",
            "execution_count": null,
            "id": "29ff52c6",
            "metadata": {},
            "outputs": [
                {
                    "data": {
                        "text/html": [
                            "\n",
                            "            <style>\n",
                            "                .geemap-dark {\n",
                            "                    --jp-widgets-color: white;\n",
                            "                    --jp-widgets-label-color: white;\n",
                            "                    --jp-ui-font-color1: white;\n",
                            "                    --jp-layout-color2: #454545;\n",
                            "                    background-color: #383838;\n",
                            "                }\n",
                            "\n",
                            "                .geemap-dark .jupyter-button {\n",
                            "                    --jp-layout-color3: #383838;\n",
                            "                }\n",
                            "\n",
                            "                .geemap-colab {\n",
                            "                    background-color: var(--colab-primary-surface-color, white);\n",
                            "                }\n",
                            "\n",
                            "                .geemap-colab .jupyter-button {\n",
                            "                    --jp-layout-color3: var(--colab-primary-surface-color, white);\n",
                            "                }\n",
                            "            </style>\n",
                            "            "
                        ],
                        "text/plain": [
                            "<IPython.core.display.HTML object>"
                        ]
                    },
                    "metadata": {},
                    "output_type": "display_data"
                },
                {
                    "name": "stdout",
                    "output_type": "stream",
                    "text": [
                        "Searching for Sentinel-1 data over Auckland from 2025-09-12 to 2025-10-12\n",
                        "Found 11 images matching criteria\n",
                        "\n",
                        "=== MOST RECENT IMAGE ===\n",
                        "Image ID: COPERNICUS/S1_GRD/S1C_IW_GRDH_1SDV_20251007T070708_20251007T070733_004452_008D21_33FE\n",
                        "Date: 2025-10-07 20:07:08\n",
                        "Available bands: ['VV', 'VH', 'angle']\n"
                    ]
                }
            ],
            "source": [
                "sentinel_1_image = get_most_recent_sentinel1_auckland_ee(akl_geom)\n",
                "if sentinel_1_image is not None:\n",
                "    polarisation = check_sentinel1_polarization(sentinel_1_image)\n",
                "    if \"VV\" in polarisation[\"polarization_from_metadata\"]:\n",
                "            vis_params = {\n",
                "                'bands': ['VV'],\n",
                "                'min': -25,\n",
                "                'max': 0,\n",
                "                'palette': ['black', 'white']\n",
                "            }\n",
                "    else:  # VH\n",
                "        vis_params = {\n",
                "            'bands': ['VH'],\n",
                "            'min': -30,\n",
                "            'max': -5,\n",
                "            'palette': ['black', 'white']\n",
                "        }\n",
                "    \n",
                "    S1Map = geemap.Map(center=[-36.8, 174.9], zoom=10)\n",
                "    S1Map.addLayer(sentinel_1_image, vis_params, f'Sentinel-1 {polarisation} Auckland')\n",
                "    S1Map.addLayer(akl_geom, {'color': 'red'}, 'My GeoJSON')\n"
            ]
        },
        {
            "cell_type": "code",
            "execution_count": null,
            "id": "95abf3bd",
            "metadata": {},
            "outputs": [],
            "source": []
        },
        {
            "cell_type": "code",
            "execution_count": null,
            "id": "1169a4b0",
            "metadata": {},
            "outputs": [
                {
                    "data": {
                        "text/html": [
                            "\n",
                            "            <style>\n",
                            "                .geemap-dark {\n",
                            "                    --jp-widgets-color: white;\n",
                            "                    --jp-widgets-label-color: white;\n",
                            "                    --jp-ui-font-color1: white;\n",
                            "                    --jp-layout-color2: #454545;\n",
                            "                    background-color: #383838;\n",
                            "                }\n",
                            "\n",
                            "                .geemap-dark .jupyter-button {\n",
                            "                    --jp-layout-color3: #383838;\n",
                            "                }\n",
                            "\n",
                            "                .geemap-colab {\n",
                            "                    background-color: var(--colab-primary-surface-color, white);\n",
                            "                }\n",
                            "\n",
                            "                .geemap-colab .jupyter-button {\n",
                            "                    --jp-layout-color3: var(--colab-primary-surface-color, white);\n",
                            "                }\n",
                            "            </style>\n",
                            "            "
                        ],
                        "text/plain": [
                            "<IPython.core.display.HTML object>"
                        ]
                    },
                    "metadata": {},
                    "output_type": "display_data"
                },
                {
                    "data": {
                        "application/vnd.jupyter.widget-view+json": {
                            "model_id": "a8fb287aa3db478d904241170be1ef72",
                            "version_major": 2,
                            "version_minor": 0
                        },
                        "text/plain": [
                            "Map(center=[-36.8, 174.9], controls=(WidgetControl(options=['position', 'transparent_bg'], position='topright'…"
                        ]
                    },
                    "execution_count": 6,
                    "metadata": {},
                    "output_type": "execute_result"
                }
            ],
            "source": [
                "S1Map"
            ]
        }
    ],
    "metadata": {
        "kernelspec": {
            "display_name": "base",
            "language": "python",
            "name": "python3"
        },
        "language_info": {
            "codemirror_mode": {
                "name": "ipython",
                "version": 3
            },
            "file_extension": ".py",
            "mimetype": "text/x-python",
            "name": "python",
            "nbconvert_exporter": "python",
            "pygments_lexer": "ipython3",
            "version": "3.13.5"
        }
    },
    "nbformat": 4,
    "nbformat_minor": 5
}