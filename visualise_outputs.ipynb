{
 "cells": [
  {
   "cell_type": "code",
   "execution_count": 15,
   "id": "012825c0",
   "metadata": {},
   "outputs": [
    {
     "data": {
      "text/html": [
       "\n",
       "            <style>\n",
       "                .geemap-dark {\n",
       "                    --jp-widgets-color: white;\n",
       "                    --jp-widgets-label-color: white;\n",
       "                    --jp-ui-font-color1: white;\n",
       "                    --jp-layout-color2: #454545;\n",
       "                    background-color: #383838;\n",
       "                }\n",
       "\n",
       "                .geemap-dark .jupyter-button {\n",
       "                    --jp-layout-color3: #383838;\n",
       "                }\n",
       "\n",
       "                .geemap-colab {\n",
       "                    background-color: var(--colab-primary-surface-color, white);\n",
       "                }\n",
       "\n",
       "                .geemap-colab .jupyter-button {\n",
       "                    --jp-layout-color3: var(--colab-primary-surface-color, white);\n",
       "                }\n",
       "            </style>\n",
       "            "
      ],
      "text/plain": [
       "<IPython.core.display.HTML object>"
      ]
     },
     "metadata": {},
     "output_type": "display_data"
    }
   ],
   "source": [
    "from get_newest_data import *\n",
    "\n",
    "import geemap\n",
    "\n",
    "AUCKLAND_GEOMETRY = ee.Geometry.Rectangle([174.5, -37.0, 175.3, -36.6])\n",
    "AUCKLAND_POINT = ee.Geometry.Point([174.9, -36.8])"
   ]
  },
  {
   "cell_type": "code",
   "execution_count": null,
   "id": "76728847",
   "metadata": {},
   "outputs": [
    {
     "data": {
      "text/html": [
       "\n",
       "            <style>\n",
       "                .geemap-dark {\n",
       "                    --jp-widgets-color: white;\n",
       "                    --jp-widgets-label-color: white;\n",
       "                    --jp-ui-font-color1: white;\n",
       "                    --jp-layout-color2: #454545;\n",
       "                    background-color: #383838;\n",
       "                }\n",
       "\n",
       "                .geemap-dark .jupyter-button {\n",
       "                    --jp-layout-color3: #383838;\n",
       "                }\n",
       "\n",
       "                .geemap-colab {\n",
       "                    background-color: var(--colab-primary-surface-color, white);\n",
       "                }\n",
       "\n",
       "                .geemap-colab .jupyter-button {\n",
       "                    --jp-layout-color3: var(--colab-primary-surface-color, white);\n",
       "                }\n",
       "            </style>\n",
       "            "
      ],
      "text/plain": [
       "<IPython.core.display.HTML object>"
      ]
     },
     "metadata": {},
     "output_type": "display_data"
    },
    {
     "name": "stdout",
     "output_type": "stream",
     "text": [
      "Searching for Sentinel-2 data over Auckland from 2025-08-25 to 2025-09-24\n",
      "Found 5 images matching criteria\n",
      "\n",
      "=== MOST RECENT IMAGE ===\n",
      "Image ID: COPERNICUS/S2_SR_HARMONIZED/20250919T222601_20250919T222624_T60HTE\n",
      "Date: 2025-09-20 10:26:33\n",
      "Cloud Cover: 10.546377%\n",
      "Satellite: Sentinel-2C\n",
      "Processing Level: 05.11\n"
     ]
    }
   ],
   "source": [
    "\n",
    "sentinel_2_image = get_most_recent_sentinel2_auckland_ee()\n",
    "\n",
    "if image != None:\n",
    "    vis_params = {\n",
    "        \"bands\": [\"B4\", \"B3\", \"B2\"],  # RGB\n",
    "        \"min\": 0,\n",
    "        \"max\": 3000,\n",
    "        \"gamma\": 1.4,\n",
    "    }\n",
    "    S2Map = geemap.Map(center=[-36.8, 174.9], zoom=10)\n",
    "    S2Map.addLayer(sentinel_2_image, vis_params, 'Sentinel-2 Auckland')\n",
    "else:\n",
    "    print(\"Image = None\")"
   ]
  },
  {
   "cell_type": "code",
   "execution_count": 10,
   "id": "c7deac7e",
   "metadata": {},
   "outputs": [
    {
     "data": {
      "text/html": [
       "\n",
       "            <style>\n",
       "                .geemap-dark {\n",
       "                    --jp-widgets-color: white;\n",
       "                    --jp-widgets-label-color: white;\n",
       "                    --jp-ui-font-color1: white;\n",
       "                    --jp-layout-color2: #454545;\n",
       "                    background-color: #383838;\n",
       "                }\n",
       "\n",
       "                .geemap-dark .jupyter-button {\n",
       "                    --jp-layout-color3: #383838;\n",
       "                }\n",
       "\n",
       "                .geemap-colab {\n",
       "                    background-color: var(--colab-primary-surface-color, white);\n",
       "                }\n",
       "\n",
       "                .geemap-colab .jupyter-button {\n",
       "                    --jp-layout-color3: var(--colab-primary-surface-color, white);\n",
       "                }\n",
       "            </style>\n",
       "            "
      ],
      "text/plain": [
       "<IPython.core.display.HTML object>"
      ]
     },
     "metadata": {},
     "output_type": "display_data"
    },
    {
     "data": {
      "application/vnd.jupyter.widget-view+json": {
       "model_id": "408f6fb6c8b448fd976a03385827e0f3",
       "version_major": 2,
       "version_minor": 0
      },
      "text/plain": [
       "Map(center=[-36.8, 174.9], controls=(WidgetControl(options=['position', 'transparent_bg'], position='topright'…"
      ]
     },
     "execution_count": 10,
     "metadata": {},
     "output_type": "execute_result"
    }
   ],
   "source": [
    "S2Map"
   ]
  }
 ],
 "metadata": {
  "kernelspec": {
   "display_name": "base",
   "language": "python",
   "name": "python3"
  },
  "language_info": {
   "codemirror_mode": {
    "name": "ipython",
    "version": 3
   },
   "file_extension": ".py",
   "mimetype": "text/x-python",
   "name": "python",
   "nbconvert_exporter": "python",
   "pygments_lexer": "ipython3",
   "version": "3.13.5"
  }
 },
 "nbformat": 4,
 "nbformat_minor": 5
}
