{
 "cells": [
  {
   "cell_type": "code",
   "execution_count": 12,
   "id": "135f6b41",
   "metadata": {},
   "outputs": [
    {
     "data": {
      "text/html": [
       "\n",
       "            <style>\n",
       "                .geemap-dark {\n",
       "                    --jp-widgets-color: white;\n",
       "                    --jp-widgets-label-color: white;\n",
       "                    --jp-ui-font-color1: white;\n",
       "                    --jp-layout-color2: #454545;\n",
       "                    background-color: #383838;\n",
       "                }\n",
       "\n",
       "                .geemap-dark .jupyter-button {\n",
       "                    --jp-layout-color3: #383838;\n",
       "                }\n",
       "\n",
       "                .geemap-colab {\n",
       "                    background-color: var(--colab-primary-surface-color, white);\n",
       "                }\n",
       "\n",
       "                .geemap-colab .jupyter-button {\n",
       "                    --jp-layout-color3: var(--colab-primary-surface-color, white);\n",
       "                }\n",
       "            </style>\n",
       "            "
      ],
      "text/plain": [
       "<IPython.core.display.HTML object>"
      ]
     },
     "metadata": {},
     "output_type": "display_data"
    }
   ],
   "source": [
    "import ee\n",
    "# Initialize Earth Engine (you need to authenticate first)\n",
    "ee.Authenticate()\n",
    "user = \"Peter\"\n",
    "if user == \"Peter\":\n",
    "    ee.Initialize(project=\"geog761-peag224\")\n",
    "elif user == \"Someone\":\n",
    "    pass\n",
    "else:\n",
    "    print(\"MUST INTIALISE PLEASE ADD YOUR INITIALISATION\")\n",
    "    # PLEASE ADD YOUR INITIALISATIONS IN AN ELIF"
   ]
  },
  {
   "cell_type": "code",
   "execution_count": 13,
   "id": "012825c0",
   "metadata": {},
   "outputs": [
    {
     "data": {
      "text/html": [
       "\n",
       "            <style>\n",
       "                .geemap-dark {\n",
       "                    --jp-widgets-color: white;\n",
       "                    --jp-widgets-label-color: white;\n",
       "                    --jp-ui-font-color1: white;\n",
       "                    --jp-layout-color2: #454545;\n",
       "                    background-color: #383838;\n",
       "                }\n",
       "\n",
       "                .geemap-dark .jupyter-button {\n",
       "                    --jp-layout-color3: #383838;\n",
       "                }\n",
       "\n",
       "                .geemap-colab {\n",
       "                    background-color: var(--colab-primary-surface-color, white);\n",
       "                }\n",
       "\n",
       "                .geemap-colab .jupyter-button {\n",
       "                    --jp-layout-color3: var(--colab-primary-surface-color, white);\n",
       "                }\n",
       "            </style>\n",
       "            "
      ],
      "text/plain": [
       "<IPython.core.display.HTML object>"
      ]
     },
     "metadata": {},
     "output_type": "display_data"
    }
   ],
   "source": [
    "from get_newest_data import *\n",
    "\n",
    "import geemap\n",
    "\n",
    "akl_geom = ee.Geometry.Rectangle([174.9, -36.4, 175, -36.5])"
   ]
  },
  {
   "cell_type": "code",
   "execution_count": 14,
   "id": "76728847",
   "metadata": {},
   "outputs": [
    {
     "data": {
      "text/html": [
       "\n",
       "            <style>\n",
       "                .geemap-dark {\n",
       "                    --jp-widgets-color: white;\n",
       "                    --jp-widgets-label-color: white;\n",
       "                    --jp-ui-font-color1: white;\n",
       "                    --jp-layout-color2: #454545;\n",
       "                    background-color: #383838;\n",
       "                }\n",
       "\n",
       "                .geemap-dark .jupyter-button {\n",
       "                    --jp-layout-color3: #383838;\n",
       "                }\n",
       "\n",
       "                .geemap-colab {\n",
       "                    background-color: var(--colab-primary-surface-color, white);\n",
       "                }\n",
       "\n",
       "                .geemap-colab .jupyter-button {\n",
       "                    --jp-layout-color3: var(--colab-primary-surface-color, white);\n",
       "                }\n",
       "            </style>\n",
       "            "
      ],
      "text/plain": [
       "<IPython.core.display.HTML object>"
      ]
     },
     "metadata": {},
     "output_type": "display_data"
    },
    {
     "name": "stdout",
     "output_type": "stream",
     "text": [
      "Searching for Sentinel-2 data over Auckland from 2025-08-25 to 2025-09-24\n",
      "Found 1 images matching criteria\n",
      "\n",
      "=== MOST RECENT IMAGE ===\n",
      "Image ID: COPERNICUS/S2_SR_HARMONIZED/20250825T222549_20250825T222543_T60HUE\n",
      "Date: 2025-08-26 10:26:15\n",
      "Cloud Cover: 15.353692%\n",
      "Satellite: Sentinel-2B\n",
      "Processing Level: 05.11\n"
     ]
    }
   ],
   "source": [
    "sentinel_2_image = get_most_recent_sentinel2_auckland_ee(geometry=akl_geom)\n",
    "\n",
    "if sentinel_2_image != None:\n",
    "    vis_params = {\n",
    "        \"bands\": [\"B4\", \"B3\", \"B2\"],  # RGB\n",
    "        \"min\": 0,\n",
    "        \"max\": 3000,\n",
    "        \"gamma\": 1.4,\n",
    "    }\n",
    "    S2Map = geemap.Map(center=[-36.8, 174.9], zoom=10)\n",
    "    S2Map.addLayer(sentinel_2_image, vis_params, 'Sentinel-2 Auckland')\n",
    "else:\n",
    "    print(\"Image = None\")"
   ]
  },
  {
   "cell_type": "code",
   "execution_count": 15,
   "id": "c7deac7e",
   "metadata": {},
   "outputs": [
    {
     "data": {
      "text/html": [
       "\n",
       "            <style>\n",
       "                .geemap-dark {\n",
       "                    --jp-widgets-color: white;\n",
       "                    --jp-widgets-label-color: white;\n",
       "                    --jp-ui-font-color1: white;\n",
       "                    --jp-layout-color2: #454545;\n",
       "                    background-color: #383838;\n",
       "                }\n",
       "\n",
       "                .geemap-dark .jupyter-button {\n",
       "                    --jp-layout-color3: #383838;\n",
       "                }\n",
       "\n",
       "                .geemap-colab {\n",
       "                    background-color: var(--colab-primary-surface-color, white);\n",
       "                }\n",
       "\n",
       "                .geemap-colab .jupyter-button {\n",
       "                    --jp-layout-color3: var(--colab-primary-surface-color, white);\n",
       "                }\n",
       "            </style>\n",
       "            "
      ],
      "text/plain": [
       "<IPython.core.display.HTML object>"
      ]
     },
     "metadata": {},
     "output_type": "display_data"
    },
    {
     "data": {
      "application/vnd.jupyter.widget-view+json": {
       "model_id": "0248efc8abba44d1ac04a272f5a2ddb2",
       "version_major": 2,
       "version_minor": 0
      },
      "text/plain": [
       "Map(center=[-36.8, 174.9], controls=(WidgetControl(options=['position', 'transparent_bg'], position='topright'…"
      ]
     },
     "execution_count": 15,
     "metadata": {},
     "output_type": "execute_result"
    }
   ],
   "source": [
    "S2Map"
   ]
  },
  {
   "cell_type": "code",
   "execution_count": 16,
   "id": "29ff52c6",
   "metadata": {},
   "outputs": [
    {
     "data": {
      "text/html": [
       "\n",
       "            <style>\n",
       "                .geemap-dark {\n",
       "                    --jp-widgets-color: white;\n",
       "                    --jp-widgets-label-color: white;\n",
       "                    --jp-ui-font-color1: white;\n",
       "                    --jp-layout-color2: #454545;\n",
       "                    background-color: #383838;\n",
       "                }\n",
       "\n",
       "                .geemap-dark .jupyter-button {\n",
       "                    --jp-layout-color3: #383838;\n",
       "                }\n",
       "\n",
       "                .geemap-colab {\n",
       "                    background-color: var(--colab-primary-surface-color, white);\n",
       "                }\n",
       "\n",
       "                .geemap-colab .jupyter-button {\n",
       "                    --jp-layout-color3: var(--colab-primary-surface-color, white);\n",
       "                }\n",
       "            </style>\n",
       "            "
      ],
      "text/plain": [
       "<IPython.core.display.HTML object>"
      ]
     },
     "metadata": {},
     "output_type": "display_data"
    },
    {
     "name": "stdout",
     "output_type": "stream",
     "text": [
      "Searching for Sentinel-1 data over Auckland from 2025-08-25 to 2025-09-24\n",
      "Found 8 images matching criteria\n",
      "\n",
      "=== MOST RECENT IMAGE ===\n",
      "Image ID: COPERNICUS/S1_GRD/S1A_IW_GRDH_1SDV_20250923T173739_20250923T173808_061118_079E5E_8D3B\n",
      "Date: 2025-09-24 05:37:39\n",
      "Satellite: A\n",
      "Orbit Direction: DESCENDING\n",
      "Instrument Mode: IW\n",
      "Polarization: ['VV', 'VH']\n",
      "Resolution: 10m\n",
      "Available bands: ['VV', 'VH', 'angle']\n",
      "=== POLARIZATION CHECK ===\n",
      "Available bands: ['VV', 'VH', 'angle']\n",
      "VV polarization: ✓\n",
      "VH polarization: ✓\n",
      "HH polarization: ✗\n",
      "HV polarization: ✗\n",
      "Dual polarization: ✓\n",
      "Metadata polarization: ['VV', 'VH']\n"
     ]
    }
   ],
   "source": [
    "sentinel_1_image = get_most_recent_sentinel1_auckland_ee(akl_geom)\n",
    "if sentinel_1_image is not None:\n",
    "    polarisation = check_sentinel1_polarization(sentinel_1_image)\n",
    "    if \"VV\" in polarisation[\"polarization_from_metadata\"]:\n",
    "            vis_params = {\n",
    "                'bands': ['VV'],\n",
    "                'min': -25,\n",
    "                'max': 0,\n",
    "                'palette': ['black', 'white']\n",
    "            }\n",
    "    else:  # VH\n",
    "        vis_params = {\n",
    "            'bands': ['VH'],\n",
    "            'min': -30,\n",
    "            'max': -5,\n",
    "            'palette': ['black', 'white']\n",
    "        }\n",
    "    \n",
    "    S1Map = geemap.Map(center=[-36.8, 174.9], zoom=10)\n",
    "    S1Map.addLayer(sentinel_1_image, vis_params, f'Sentinel-1 {polarisation} Auckland')"
   ]
  },
  {
   "cell_type": "code",
   "execution_count": 17,
   "id": "1169a4b0",
   "metadata": {},
   "outputs": [
    {
     "data": {
      "text/html": [
       "\n",
       "            <style>\n",
       "                .geemap-dark {\n",
       "                    --jp-widgets-color: white;\n",
       "                    --jp-widgets-label-color: white;\n",
       "                    --jp-ui-font-color1: white;\n",
       "                    --jp-layout-color2: #454545;\n",
       "                    background-color: #383838;\n",
       "                }\n",
       "\n",
       "                .geemap-dark .jupyter-button {\n",
       "                    --jp-layout-color3: #383838;\n",
       "                }\n",
       "\n",
       "                .geemap-colab {\n",
       "                    background-color: var(--colab-primary-surface-color, white);\n",
       "                }\n",
       "\n",
       "                .geemap-colab .jupyter-button {\n",
       "                    --jp-layout-color3: var(--colab-primary-surface-color, white);\n",
       "                }\n",
       "            </style>\n",
       "            "
      ],
      "text/plain": [
       "<IPython.core.display.HTML object>"
      ]
     },
     "metadata": {},
     "output_type": "display_data"
    },
    {
     "data": {
      "application/vnd.jupyter.widget-view+json": {
       "model_id": "b883446bc2a744879dd8ec2c8ebe47d2",
       "version_major": 2,
       "version_minor": 0
      },
      "text/plain": [
       "Map(center=[-36.8, 174.9], controls=(WidgetControl(options=['position', 'transparent_bg'], position='topright'…"
      ]
     },
     "execution_count": 17,
     "metadata": {},
     "output_type": "execute_result"
    }
   ],
   "source": [
    "S1Map"
   ]
  }
 ],
 "metadata": {
  "kernelspec": {
   "display_name": "base",
   "language": "python",
   "name": "python3"
  },
  "language_info": {
   "codemirror_mode": {
    "name": "ipython",
    "version": 3
   },
   "file_extension": ".py",
   "mimetype": "text/x-python",
   "name": "python",
   "nbconvert_exporter": "python",
   "pygments_lexer": "ipython3",
   "version": "3.13.5"
  }
 },
 "nbformat": 4,
 "nbformat_minor": 5
}
