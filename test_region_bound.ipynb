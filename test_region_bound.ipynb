{
 "cells": [
  {
   "cell_type": "code",
   "execution_count": 7,
   "id": "a3ccd6d3",
   "metadata": {},
   "outputs": [
    {
     "data": {
      "text/html": [
       "\n",
       "            <style>\n",
       "                .geemap-dark {\n",
       "                    --jp-widgets-color: white;\n",
       "                    --jp-widgets-label-color: white;\n",
       "                    --jp-ui-font-color1: white;\n",
       "                    --jp-layout-color2: #454545;\n",
       "                    background-color: #383838;\n",
       "                }\n",
       "\n",
       "                .geemap-dark .jupyter-button {\n",
       "                    --jp-layout-color3: #383838;\n",
       "                }\n",
       "\n",
       "                .geemap-colab {\n",
       "                    background-color: var(--colab-primary-surface-color, white);\n",
       "                }\n",
       "\n",
       "                .geemap-colab .jupyter-button {\n",
       "                    --jp-layout-color3: var(--colab-primary-surface-color, white);\n",
       "                }\n",
       "            </style>\n",
       "            "
      ],
      "text/plain": [
       "<IPython.core.display.HTML object>"
      ]
     },
     "metadata": {},
     "output_type": "display_data"
    }
   ],
   "source": [
    "import geemap\n",
    "\n",
    "def visualise_region(region):\n",
    "    \"\"\"\n",
    "    Visualise the simplistic region on an interactive map using geemap.\n",
    "    \"\"\"\n",
    "\n",
    "    # Create map\n",
    "    m = geemap.Map(center=[-36.83, 174.435], zoom=12)\n",
    "    m.addLayer(region, {\"color\": \"blue\"}, \"Muriwai Bounding Box\")\n",
    "    m.addLayer(ee.Geometry.Point([174.435, -36.83]), {\"color\": \"red\"}, \"Center Point\")\n",
    "\n",
    "    return m"
   ]
  },
  {
   "cell_type": "code",
   "execution_count": 3,
   "id": "d5aeb043",
   "metadata": {},
   "outputs": [
    {
     "ename": "ImportError",
     "evalue": "cannot import name 'create_simplistic_region' from 'define_region_simplistic' (c:\\_Uni\\2025 S2\\GEOG 761\\Geog761-Project-WewillaskAI\\define_region_simplistic.py)",
     "output_type": "error",
     "traceback": [
      "\u001b[1;31m---------------------------------------------------------------------------\u001b[0m",
      "\u001b[1;31mImportError\u001b[0m                               Traceback (most recent call last)",
      "Cell \u001b[1;32mIn[3], line 1\u001b[0m\n\u001b[1;32m----> 1\u001b[0m \u001b[38;5;28;01mfrom\u001b[39;00m \u001b[38;5;21;01mdefine_region_simplistic\u001b[39;00m \u001b[38;5;28;01mimport\u001b[39;00m create_simplistic_region\n\u001b[0;32m      3\u001b[0m region \u001b[38;5;241m=\u001b[39m create_simplistic_region()\n\u001b[0;32m      4\u001b[0m \u001b[38;5;28mmap\u001b[39m \u001b[38;5;241m=\u001b[39m visualise_region(region)\n",
      "\u001b[1;31mImportError\u001b[0m: cannot import name 'create_simplistic_region' from 'define_region_simplistic' (c:\\_Uni\\2025 S2\\GEOG 761\\Geog761-Project-WewillaskAI\\define_region_simplistic.py)"
     ]
    }
   ],
   "source": [
    "from define_region_simplistic import create_simplistic_region\n",
    "\n",
    "region = create_simplistic_region()\n",
    "map = visualise_region(region)\n",
    "map"
   ]
  }
 ],
 "metadata": {
  "kernelspec": {
   "display_name": "base",
   "language": "python",
   "name": "python3"
  },
  "language_info": {
   "codemirror_mode": {
    "name": "ipython",
    "version": 3
   },
   "file_extension": ".py",
   "mimetype": "text/x-python",
   "name": "python",
   "nbconvert_exporter": "python",
   "pygments_lexer": "ipython3",
   "version": "3.12.3"
  }
 },
 "nbformat": 4,
 "nbformat_minor": 5
}
