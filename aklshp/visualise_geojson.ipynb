{
 "cells": [
  {
   "cell_type": "code",
   "execution_count": 2,
   "id": "b12b45c2",
   "metadata": {},
   "outputs": [
    {
     "data": {
      "text/html": [
       "\n",
       "            <style>\n",
       "                .geemap-dark {\n",
       "                    --jp-widgets-color: white;\n",
       "                    --jp-widgets-label-color: white;\n",
       "                    --jp-ui-font-color1: white;\n",
       "                    --jp-layout-color2: #454545;\n",
       "                    background-color: #383838;\n",
       "                }\n",
       "\n",
       "                .geemap-dark .jupyter-button {\n",
       "                    --jp-layout-color3: #383838;\n",
       "                }\n",
       "\n",
       "                .geemap-colab {\n",
       "                    background-color: var(--colab-primary-surface-color, white);\n",
       "                }\n",
       "\n",
       "                .geemap-colab .jupyter-button {\n",
       "                    --jp-layout-color3: var(--colab-primary-surface-color, white);\n",
       "                }\n",
       "            </style>\n",
       "            "
      ],
      "text/plain": [
       "<IPython.core.display.HTML object>"
      ]
     },
     "metadata": {},
     "output_type": "display_data"
    }
   ],
   "source": [
    "import ee\n",
    "\n",
    "user_project = \"geog761-peag224\"\n",
    "\n",
    "# Initialize Earth Engine (make sure you've authenticated first)\n",
    "ee.Authenticate()  # Run this once if needed\n",
    "ee.Initialize(project=user_project)"
   ]
  },
  {
   "cell_type": "code",
   "execution_count": 3,
   "id": "7ec2f168",
   "metadata": {},
   "outputs": [
    {
     "data": {
      "text/html": [
       "\n",
       "            <style>\n",
       "                .geemap-dark {\n",
       "                    --jp-widgets-color: white;\n",
       "                    --jp-widgets-label-color: white;\n",
       "                    --jp-ui-font-color1: white;\n",
       "                    --jp-layout-color2: #454545;\n",
       "                    background-color: #383838;\n",
       "                }\n",
       "\n",
       "                .geemap-dark .jupyter-button {\n",
       "                    --jp-layout-color3: #383838;\n",
       "                }\n",
       "\n",
       "                .geemap-colab {\n",
       "                    background-color: var(--colab-primary-surface-color, white);\n",
       "                }\n",
       "\n",
       "                .geemap-colab .jupyter-button {\n",
       "                    --jp-layout-color3: var(--colab-primary-surface-color, white);\n",
       "                }\n",
       "            </style>\n",
       "            "
      ],
      "text/plain": [
       "<IPython.core.display.HTML object>"
      ]
     },
     "metadata": {},
     "output_type": "display_data"
    },
    {
     "data": {
      "application/vnd.jupyter.widget-view+json": {
       "model_id": "d8cea17e7fb9439a94a66e773b4bb588",
       "version_major": 2,
       "version_minor": 0
      },
      "text/plain": [
       "Map(center=[0, 0], controls=(WidgetControl(options=['position', 'transparent_bg'], position='topright', transp…"
      ]
     },
     "execution_count": 3,
     "metadata": {},
     "output_type": "execute_result"
    }
   ],
   "source": [
    "import json\n",
    "import random\n",
    "import geemap\n",
    "\n",
    "# Path to your local file\n",
    "geojson_path = r\"C:\\Users\\eagle\\Documents\\Geog761-Project-WewillaskAI\\aklshp\\akl_landslides.geojson\"\n",
    "\n",
    "# Load and parse the GeoJSON file\n",
    "with open(geojson_path) as f:\n",
    "    geojson_data = json.load(f)\n",
    "\n",
    "# Randomly sample 100 features (if there are that many)\n",
    "sample_size = 100\n",
    "features = geojson_data[\"features\"]\n",
    "if len(features) > sample_size:\n",
    "    sampled_features = random.sample(features, sample_size)\n",
    "else:\n",
    "    sampled_features = features  # use all if fewer than 100\n",
    "\n",
    "# Replace the original features with the sampled ones\n",
    "geojson_data[\"features\"] = sampled_features\n",
    "\n",
    "# Convert to Earth Engine FeatureCollection\n",
    "fc = geemap.geojson_to_ee(geojson_data)\n",
    "\n",
    "# Create an interactive map\n",
    "Map = geemap.Map()\n",
    "\n",
    "# Add the GeoJSON FeatureCollection\n",
    "Map.addLayer(fc, {'color': 'red'}, 'Sampled GeoJSON')\n",
    "\n",
    "# Center the map on the sampled features\n",
    "Map.centerObject(fc)\n",
    "\n",
    "# Display\n",
    "Map\n"
   ]
  }
 ],
 "metadata": {
  "kernelspec": {
   "display_name": "Python 3",
   "language": "python",
   "name": "python3"
  },
  "language_info": {
   "codemirror_mode": {
    "name": "ipython",
    "version": 3
   },
   "file_extension": ".py",
   "mimetype": "text/x-python",
   "name": "python",
   "nbconvert_exporter": "python",
   "pygments_lexer": "ipython3",
   "version": "3.11.9"
  }
 },
 "nbformat": 4,
 "nbformat_minor": 5
}
