{
  "nbformat": 4,
  "nbformat_minor": 0,
  "metadata": {
    "colab": {
      "provenance": [],
      "authorship_tag": "ABX9TyPmK2PQcdfZHP7mKw05aJ9y",
      "include_colab_link": true
    },
    "kernelspec": {
      "name": "python3",
      "display_name": "Python 3"
    },
    "language_info": {
      "name": "python"
    }
  },
  "cells": [
    {
      "cell_type": "markdown",
      "metadata": {
        "id": "view-in-github",
        "colab_type": "text"
      },
      "source": [
        "<a href=\"https://colab.research.google.com/github/Sammcfadz/Geog761-Project-WewillaskAI/blob/main/landslidesgabriellefinal.ipynb\" target=\"_parent\"><img src=\"https://colab.research.google.com/assets/colab-badge.svg\" alt=\"Open In Colab\"/></a>"
      ]
    },
    {
      "cell_type": "markdown",
      "source": [
        "settinup"
      ],
      "metadata": {
        "id": "-hmmO-vxcE1o"
      }
    },
    {
      "cell_type": "code",
      "execution_count": null,
      "metadata": {
        "id": "ec4DNvhcba-i"
      },
      "outputs": [],
      "source": [
        "import ee\n",
        "ee.Authenticate()\n",
        "ee.Initialize(project='lab-1-761')"
      ]
    },
    {
      "cell_type": "markdown",
      "source": [
        "packages"
      ],
      "metadata": {
        "id": "LJ0CYhmpb_gK"
      }
    },
    {
      "cell_type": "code",
      "source": [
        "!pip install geemap --quiet\n",
        "\n",
        "import geemap\n",
        "import geopandas as gpd\n",
        "import pandas as pd\n",
        "import matplotlib.pyplot as plt\n",
        "import numpy as np"
      ],
      "metadata": {
        "id": "JHdc-Cpab9b4"
      },
      "execution_count": null,
      "outputs": []
    },
    {
      "cell_type": "markdown",
      "source": [
        "importing ladnslide info"
      ],
      "metadata": {
        "id": "dGoJ5GtbcIP3"
      }
    },
    {
      "cell_type": "code",
      "source": [
        "\n",
        "\n",
        "polygones = ee.Image('projects/lab-1-761/assets/Maprepoly')\n",
        "\n",
        "line = ee.Image('projects/lab-1-761/assets/Mapgablines')\n",
        "\n"
      ],
      "metadata": {
        "id": "9CKaq3DacLfI"
      },
      "execution_count": null,
      "outputs": []
    },
    {
      "cell_type": "markdown",
      "source": [
        "visulaise"
      ],
      "metadata": {
        "id": "mZWcY75idk1A"
      }
    },
    {
      "cell_type": "code",
      "source": [
        "aoi = ee.Geometry.Point(174.62739499787148, -36.90358402089443)\n",
        "\n",
        "\n",
        "Map = geemap.Map()\n",
        "\n",
        "Map.centerObject(aoi, 10)\n",
        "Map.addLayer(polygones, {'bands':['b4','b3','b2'], 'min':0, 'max':3000, 'opacity': 0.3, 'gamma': 10}, 'polygones')\n",
        "Map.addLayer(line, {'bands':['b4','b3','b2'], 'min':0, 'max':3000, 'opacity': 0.3, 'gamma': 10}, 'lines')\n",
        "Map"
      ],
      "metadata": {
        "id": "-RDitE-Bdm9P"
      },
      "execution_count": null,
      "outputs": []
    }
  ]
}