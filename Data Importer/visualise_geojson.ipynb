{
 "cells": [
  {
   "cell_type": "code",
   "execution_count": 1,
   "id": "b12b45c2",
   "metadata": {},
   "outputs": [],
   "source": [
    "import ee\n",
    "\n",
    "user_project = \"geog761-peag224\"\n",
    "\n",
    "# Initialize Earth Engine (make sure you've authenticated first)\n",
    "ee.Authenticate()  # Run this once if needed\n",
    "ee.Initialize(project=user_project)"
   ]
  },
  {
   "cell_type": "code",
   "execution_count": null,
   "id": "5586c64c",
   "metadata": {},
   "outputs": [
    {
     "name": "stdout",
     "output_type": "stream",
     "text": [
      "Map saved to map.html - open it in your browser!\n"
     ]
    }
   ],
   "source": [
    "import json\n",
    "import folium\n",
    "from shapely.geometry import shape\n",
    "\n",
    "# Read the GeoJSON file\n",
    "geojson_path = \"C:/Users/eagle/OneDrive - The University of Auckland/2025/Semester 2/GEOG 761/Geog761-Project-WewillaskAI/aklshp/akl_shape.geojson\"\n",
    "\n",
    "with open(geojson_path) as f:\n",
    "    geojson_data = json.load(f)\n",
    "\n",
    "# Get the geometry to calculate center\n",
    "geom = shape(geojson_data['geometry'])\n",
    "bounds = geom.bounds  # (minx, miny, maxx, maxy)\n",
    "center_lat = (bounds[1] + bounds[3]) / 2\n",
    "center_lon = (bounds[0] + bounds[2]) / 2\n",
    "\n",
    "# Create map centered on the geometry\n",
    "m = folium.Map(\n",
    "    location=[center_lat, center_lon],\n",
    "    zoom_start=6,\n",
    "    tiles='OpenStreetMap'\n",
    ")\n",
    "\n",
    "# Add the GeoJSON layer\n",
    "folium.GeoJson(\n",
    "    geojson_data,\n",
    "    name='North Island',\n",
    "    style_function=lambda x: {\n",
    "        'fillColor': '#3388ff',\n",
    "        'color': '#000000',\n",
    "        'weight': 2,\n",
    "        'fillOpacity': 0.3\n",
    "    }\n",
    ").add_to(m)\n",
    "\n",
    "# Fit bounds to the geometry\n",
    "m.fit_bounds([[bounds[1], bounds[0]], [bounds[3], bounds[2]]])\n",
    "\n",
    "# Add layer control\n",
    "folium.LayerControl().add_to(m)\n",
    "\n",
    "# Save to HTML file\n",
    "m.save('map.html')\n",
    "print(\"Map saved to map.html - open it in your browser!\")\n"
   ]
  },
  {
   "cell_type": "code",
   "execution_count": 10,
   "id": "7ec2f168",
   "metadata": {},
   "outputs": [
    {
     "data": {
      "text/html": [
       "\n",
       "            <style>\n",
       "                .geemap-dark {\n",
       "                    --jp-widgets-color: white;\n",
       "                    --jp-widgets-label-color: white;\n",
       "                    --jp-ui-font-color1: white;\n",
       "                    --jp-layout-color2: #454545;\n",
       "                    background-color: #383838;\n",
       "                }\n",
       "\n",
       "                .geemap-dark .jupyter-button {\n",
       "                    --jp-layout-color3: #383838;\n",
       "                }\n",
       "\n",
       "                .geemap-colab {\n",
       "                    background-color: var(--colab-primary-surface-color, white);\n",
       "                }\n",
       "\n",
       "                .geemap-colab .jupyter-button {\n",
       "                    --jp-layout-color3: var(--colab-primary-surface-color, white);\n",
       "                }\n",
       "            </style>\n",
       "            "
      ],
      "text/plain": [
       "<IPython.core.display.HTML object>"
      ]
     },
     "metadata": {},
     "output_type": "display_data"
    },
    {
     "ename": "",
     "evalue": "",
     "output_type": "error",
     "traceback": [
      "\u001b[1;31mCannot execute code, session has been disposed. Please try restarting the Kernel."
     ]
    },
    {
     "ename": "",
     "evalue": "",
     "output_type": "error",
     "traceback": [
      "\u001b[1;31mCannot execute code, session has been disposed. Please try restarting the Kernel. \n",
      "\u001b[1;31mView Jupyter <a href='command:jupyter.viewOutput'>log</a> for further details."
     ]
    }
   ],
   "source": [
    "import json\n",
    "import geemap\n",
    "\n",
    "# Path to your local file\n",
    "geojson_path = \"C:/Users/eagle/OneDrive - The University of Auckland/2025/Semester 2/GEOG 761/Geog761-Project-WewillaskAI/aklshp/akl_refined.geojson\"\n",
    "# geojson_path = \"aklshp/auckland_shape.geojson\"\n",
    "# Load and parse the GeoJSON file\n",
    "with open(geojson_path) as f:\n",
    "    geojson_data = json.load(f)\n",
    "\n",
    "# Convert to Earth Engine FeatureCollection\n",
    "fc = geemap.geojson_to_ee(geojson_data)\n",
    "\n",
    "# Create an interactive map\n",
    "Map = geemap.Map()\n",
    "\n",
    "# Add the GeoJSON FeatureCollection\n",
    "Map.addLayer(fc, {'color': 'red'}, 'My GeoJSON')\n",
    "\n",
    "# Center the map on the feature\n",
    "Map.centerObject(fc)\n",
    "\n",
    "# Display\n",
    "Map\n"
   ]
  }
 ],
 "metadata": {
  "kernelspec": {
   "display_name": "base",
   "language": "python",
   "name": "python3"
  },
  "language_info": {
   "codemirror_mode": {
    "name": "ipython",
    "version": 3
   },
   "file_extension": ".py",
   "mimetype": "text/x-python",
   "name": "python",
   "nbconvert_exporter": "python",
   "pygments_lexer": "ipython3",
   "version": "3.13.5"
  }
 },
 "nbformat": 4,
 "nbformat_minor": 5
}
