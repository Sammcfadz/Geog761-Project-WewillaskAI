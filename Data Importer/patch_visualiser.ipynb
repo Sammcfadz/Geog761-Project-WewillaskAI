{
 "cells": [
  {
   "cell_type": "code",
   "execution_count": null,
   "id": "50898890",
   "metadata": {},
   "outputs": [
    {
     "data": {
      "text/html": [
       "\n",
       "            <style>\n",
       "                .geemap-dark {\n",
       "                    --jp-widgets-color: white;\n",
       "                    --jp-widgets-label-color: white;\n",
       "                    --jp-ui-font-color1: white;\n",
       "                    --jp-layout-color2: #454545;\n",
       "                    background-color: #383838;\n",
       "                }\n",
       "\n",
       "                .geemap-dark .jupyter-button {\n",
       "                    --jp-layout-color3: #383838;\n",
       "                }\n",
       "\n",
       "                .geemap-colab {\n",
       "                    background-color: var(--colab-primary-surface-color, white);\n",
       "                }\n",
       "\n",
       "                .geemap-colab .jupyter-button {\n",
       "                    --jp-layout-color3: var(--colab-primary-surface-color, white);\n",
       "                }\n",
       "            </style>\n",
       "            "
      ],
      "text/plain": [
       "<IPython.core.display.HTML object>"
      ]
     },
     "metadata": {},
     "output_type": "display_data"
    },
    {
     "name": "stdout",
     "output_type": "stream",
     "text": [
      "Reading 5000m grid GeoJSON...\n",
      "Grid loaded: 546 patches\n",
      "Reading original Auckland boundary...\n"
     ]
    },
    {
     "ename": "DataSourceError",
     "evalue": "C:\\_Uni\\2025 S2\\GEOG 761\\Geog761-Project-WewillaskAI\\aklshp\\auckland_mainland_only.geojson: No such file or directory",
     "output_type": "error",
     "traceback": [
      "\u001b[1;31m---------------------------------------------------------------------------\u001b[0m",
      "\u001b[1;31mDataSourceError\u001b[0m                           Traceback (most recent call last)",
      "Cell \u001b[1;32mIn[5], line 27\u001b[0m\n\u001b[0;32m     25\u001b[0m \u001b[38;5;66;03m# %% Read the original Auckland boundary GeoJSON\u001b[39;00m\n\u001b[0;32m     26\u001b[0m \u001b[38;5;28mprint\u001b[39m(\u001b[38;5;124m\"\u001b[39m\u001b[38;5;124mReading original Auckland boundary...\u001b[39m\u001b[38;5;124m\"\u001b[39m)\n\u001b[1;32m---> 27\u001b[0m original_gdf \u001b[38;5;241m=\u001b[39m gpd\u001b[38;5;241m.\u001b[39mread_file(\u001b[38;5;124mr\u001b[39m\u001b[38;5;124m'\u001b[39m\u001b[38;5;124mC:\u001b[39m\u001b[38;5;124m\\\u001b[39m\u001b[38;5;124m_Uni\u001b[39m\u001b[38;5;124m\\\u001b[39m\u001b[38;5;124m2025 S2\u001b[39m\u001b[38;5;124m\\\u001b[39m\u001b[38;5;124mGEOG 761\u001b[39m\u001b[38;5;124m\\\u001b[39m\u001b[38;5;124mGeog761-Project-WewillaskAI\u001b[39m\u001b[38;5;124m\\\u001b[39m\u001b[38;5;124maklshp\u001b[39m\u001b[38;5;124m\\\u001b[39m\u001b[38;5;124mauckland_mainland_only.geojson\u001b[39m\u001b[38;5;124m'\u001b[39m)\n\u001b[0;32m     28\u001b[0m original_wgs84 \u001b[38;5;241m=\u001b[39m original_gdf\u001b[38;5;241m.\u001b[39mto_crs(\u001b[38;5;124m'\u001b[39m\u001b[38;5;124mEPSG:4326\u001b[39m\u001b[38;5;124m'\u001b[39m)\n\u001b[0;32m     29\u001b[0m \u001b[38;5;28mprint\u001b[39m(\u001b[38;5;124mf\u001b[39m\u001b[38;5;124m\"\u001b[39m\u001b[38;5;124m✓ Original boundary loaded\u001b[39m\u001b[38;5;124m\"\u001b[39m)\n",
      "File \u001b[1;32mc:\\Users\\sammc\\anaconda3\\Lib\\site-packages\\geopandas\\io\\file.py:316\u001b[0m, in \u001b[0;36m_read_file\u001b[1;34m(filename, bbox, mask, columns, rows, engine, **kwargs)\u001b[0m\n\u001b[0;32m    313\u001b[0m             filename \u001b[38;5;241m=\u001b[39m response\u001b[38;5;241m.\u001b[39mread()\n\u001b[0;32m    315\u001b[0m \u001b[38;5;28;01mif\u001b[39;00m engine \u001b[38;5;241m==\u001b[39m \u001b[38;5;124m\"\u001b[39m\u001b[38;5;124mpyogrio\u001b[39m\u001b[38;5;124m\"\u001b[39m:\n\u001b[1;32m--> 316\u001b[0m     \u001b[38;5;28;01mreturn\u001b[39;00m _read_file_pyogrio(\n\u001b[0;32m    317\u001b[0m         filename, bbox\u001b[38;5;241m=\u001b[39mbbox, mask\u001b[38;5;241m=\u001b[39mmask, columns\u001b[38;5;241m=\u001b[39mcolumns, rows\u001b[38;5;241m=\u001b[39mrows, \u001b[38;5;241m*\u001b[39m\u001b[38;5;241m*\u001b[39mkwargs\n\u001b[0;32m    318\u001b[0m     )\n\u001b[0;32m    320\u001b[0m \u001b[38;5;28;01melif\u001b[39;00m engine \u001b[38;5;241m==\u001b[39m \u001b[38;5;124m\"\u001b[39m\u001b[38;5;124mfiona\u001b[39m\u001b[38;5;124m\"\u001b[39m:\n\u001b[0;32m    321\u001b[0m     \u001b[38;5;28;01mif\u001b[39;00m pd\u001b[38;5;241m.\u001b[39mapi\u001b[38;5;241m.\u001b[39mtypes\u001b[38;5;241m.\u001b[39mis_file_like(filename):\n",
      "File \u001b[1;32mc:\\Users\\sammc\\anaconda3\\Lib\\site-packages\\geopandas\\io\\file.py:576\u001b[0m, in \u001b[0;36m_read_file_pyogrio\u001b[1;34m(path_or_bytes, bbox, mask, rows, **kwargs)\u001b[0m\n\u001b[0;32m    567\u001b[0m     warnings\u001b[38;5;241m.\u001b[39mwarn(\n\u001b[0;32m    568\u001b[0m         \u001b[38;5;124m\"\u001b[39m\u001b[38;5;124mThe \u001b[39m\u001b[38;5;124m'\u001b[39m\u001b[38;5;124minclude_fields\u001b[39m\u001b[38;5;124m'\u001b[39m\u001b[38;5;124m and \u001b[39m\u001b[38;5;124m'\u001b[39m\u001b[38;5;124mignore_fields\u001b[39m\u001b[38;5;124m'\u001b[39m\u001b[38;5;124m keywords are deprecated, and \u001b[39m\u001b[38;5;124m\"\u001b[39m\n\u001b[0;32m    569\u001b[0m         \u001b[38;5;124m\"\u001b[39m\u001b[38;5;124mwill be removed in a future release. You can use the \u001b[39m\u001b[38;5;124m'\u001b[39m\u001b[38;5;124mcolumns\u001b[39m\u001b[38;5;124m'\u001b[39m\u001b[38;5;124m keyword \u001b[39m\u001b[38;5;124m\"\u001b[39m\n\u001b[1;32m   (...)\u001b[0m\n\u001b[0;32m    572\u001b[0m         stacklevel\u001b[38;5;241m=\u001b[39m\u001b[38;5;241m3\u001b[39m,\n\u001b[0;32m    573\u001b[0m     )\n\u001b[0;32m    574\u001b[0m     kwargs[\u001b[38;5;124m\"\u001b[39m\u001b[38;5;124mcolumns\u001b[39m\u001b[38;5;124m\"\u001b[39m] \u001b[38;5;241m=\u001b[39m kwargs\u001b[38;5;241m.\u001b[39mpop(\u001b[38;5;124m\"\u001b[39m\u001b[38;5;124minclude_fields\u001b[39m\u001b[38;5;124m\"\u001b[39m)\n\u001b[1;32m--> 576\u001b[0m \u001b[38;5;28;01mreturn\u001b[39;00m pyogrio\u001b[38;5;241m.\u001b[39mread_dataframe(path_or_bytes, bbox\u001b[38;5;241m=\u001b[39mbbox, \u001b[38;5;241m*\u001b[39m\u001b[38;5;241m*\u001b[39mkwargs)\n",
      "File \u001b[1;32mc:\\Users\\sammc\\anaconda3\\Lib\\site-packages\\pyogrio\\geopandas.py:275\u001b[0m, in \u001b[0;36mread_dataframe\u001b[1;34m(path_or_buffer, layer, encoding, columns, read_geometry, force_2d, skip_features, max_features, where, bbox, mask, fids, sql, sql_dialect, fid_as_index, use_arrow, on_invalid, arrow_to_pandas_kwargs, **kwargs)\u001b[0m\n\u001b[0;32m    270\u001b[0m \u001b[38;5;28;01mif\u001b[39;00m \u001b[38;5;129;01mnot\u001b[39;00m use_arrow:\n\u001b[0;32m    271\u001b[0m     \u001b[38;5;66;03m# For arrow, datetimes are read as is.\u001b[39;00m\n\u001b[0;32m    272\u001b[0m     \u001b[38;5;66;03m# For numpy IO, datetimes are read as string values to preserve timezone info\u001b[39;00m\n\u001b[0;32m    273\u001b[0m     \u001b[38;5;66;03m# as numpy does not directly support timezones.\u001b[39;00m\n\u001b[0;32m    274\u001b[0m     kwargs[\u001b[38;5;124m\"\u001b[39m\u001b[38;5;124mdatetime_as_string\u001b[39m\u001b[38;5;124m\"\u001b[39m] \u001b[38;5;241m=\u001b[39m \u001b[38;5;28;01mTrue\u001b[39;00m\n\u001b[1;32m--> 275\u001b[0m result \u001b[38;5;241m=\u001b[39m read_func(\n\u001b[0;32m    276\u001b[0m     path_or_buffer,\n\u001b[0;32m    277\u001b[0m     layer\u001b[38;5;241m=\u001b[39mlayer,\n\u001b[0;32m    278\u001b[0m     encoding\u001b[38;5;241m=\u001b[39mencoding,\n\u001b[0;32m    279\u001b[0m     columns\u001b[38;5;241m=\u001b[39mcolumns,\n\u001b[0;32m    280\u001b[0m     read_geometry\u001b[38;5;241m=\u001b[39mread_geometry,\n\u001b[0;32m    281\u001b[0m     force_2d\u001b[38;5;241m=\u001b[39mgdal_force_2d,\n\u001b[0;32m    282\u001b[0m     skip_features\u001b[38;5;241m=\u001b[39mskip_features,\n\u001b[0;32m    283\u001b[0m     max_features\u001b[38;5;241m=\u001b[39mmax_features,\n\u001b[0;32m    284\u001b[0m     where\u001b[38;5;241m=\u001b[39mwhere,\n\u001b[0;32m    285\u001b[0m     bbox\u001b[38;5;241m=\u001b[39mbbox,\n\u001b[0;32m    286\u001b[0m     mask\u001b[38;5;241m=\u001b[39mmask,\n\u001b[0;32m    287\u001b[0m     fids\u001b[38;5;241m=\u001b[39mfids,\n\u001b[0;32m    288\u001b[0m     sql\u001b[38;5;241m=\u001b[39msql,\n\u001b[0;32m    289\u001b[0m     sql_dialect\u001b[38;5;241m=\u001b[39msql_dialect,\n\u001b[0;32m    290\u001b[0m     return_fids\u001b[38;5;241m=\u001b[39mfid_as_index,\n\u001b[0;32m    291\u001b[0m     \u001b[38;5;241m*\u001b[39m\u001b[38;5;241m*\u001b[39mkwargs,\n\u001b[0;32m    292\u001b[0m )\n\u001b[0;32m    294\u001b[0m \u001b[38;5;28;01mif\u001b[39;00m use_arrow:\n\u001b[0;32m    295\u001b[0m     \u001b[38;5;28;01mimport\u001b[39;00m \u001b[38;5;21;01mpyarrow\u001b[39;00m \u001b[38;5;28;01mas\u001b[39;00m \u001b[38;5;21;01mpa\u001b[39;00m\n",
      "File \u001b[1;32mc:\\Users\\sammc\\anaconda3\\Lib\\site-packages\\pyogrio\\raw.py:198\u001b[0m, in \u001b[0;36mread\u001b[1;34m(path_or_buffer, layer, encoding, columns, read_geometry, force_2d, skip_features, max_features, where, bbox, mask, fids, sql, sql_dialect, return_fids, datetime_as_string, **kwargs)\u001b[0m\n\u001b[0;32m     59\u001b[0m \u001b[38;5;250m\u001b[39m\u001b[38;5;124;03m\"\"\"Read OGR data source into numpy arrays.\u001b[39;00m\n\u001b[0;32m     60\u001b[0m \n\u001b[0;32m     61\u001b[0m \u001b[38;5;124;03mIMPORTANT: non-linear geometry types (e.g., MultiSurface) are converted\u001b[39;00m\n\u001b[1;32m   (...)\u001b[0m\n\u001b[0;32m    194\u001b[0m \n\u001b[0;32m    195\u001b[0m \u001b[38;5;124;03m\"\"\"\u001b[39;00m\n\u001b[0;32m    196\u001b[0m dataset_kwargs \u001b[38;5;241m=\u001b[39m _preprocess_options_key_value(kwargs) \u001b[38;5;28;01mif\u001b[39;00m kwargs \u001b[38;5;28;01melse\u001b[39;00m {}\n\u001b[1;32m--> 198\u001b[0m \u001b[38;5;28;01mreturn\u001b[39;00m ogr_read(\n\u001b[0;32m    199\u001b[0m     get_vsi_path_or_buffer(path_or_buffer),\n\u001b[0;32m    200\u001b[0m     layer\u001b[38;5;241m=\u001b[39mlayer,\n\u001b[0;32m    201\u001b[0m     encoding\u001b[38;5;241m=\u001b[39mencoding,\n\u001b[0;32m    202\u001b[0m     columns\u001b[38;5;241m=\u001b[39mcolumns,\n\u001b[0;32m    203\u001b[0m     read_geometry\u001b[38;5;241m=\u001b[39mread_geometry,\n\u001b[0;32m    204\u001b[0m     force_2d\u001b[38;5;241m=\u001b[39mforce_2d,\n\u001b[0;32m    205\u001b[0m     skip_features\u001b[38;5;241m=\u001b[39mskip_features,\n\u001b[0;32m    206\u001b[0m     max_features\u001b[38;5;241m=\u001b[39mmax_features \u001b[38;5;129;01mor\u001b[39;00m \u001b[38;5;241m0\u001b[39m,\n\u001b[0;32m    207\u001b[0m     where\u001b[38;5;241m=\u001b[39mwhere,\n\u001b[0;32m    208\u001b[0m     bbox\u001b[38;5;241m=\u001b[39mbbox,\n\u001b[0;32m    209\u001b[0m     mask\u001b[38;5;241m=\u001b[39m_mask_to_wkb(mask),\n\u001b[0;32m    210\u001b[0m     fids\u001b[38;5;241m=\u001b[39mfids,\n\u001b[0;32m    211\u001b[0m     sql\u001b[38;5;241m=\u001b[39msql,\n\u001b[0;32m    212\u001b[0m     sql_dialect\u001b[38;5;241m=\u001b[39msql_dialect,\n\u001b[0;32m    213\u001b[0m     return_fids\u001b[38;5;241m=\u001b[39mreturn_fids,\n\u001b[0;32m    214\u001b[0m     dataset_kwargs\u001b[38;5;241m=\u001b[39mdataset_kwargs,\n\u001b[0;32m    215\u001b[0m     datetime_as_string\u001b[38;5;241m=\u001b[39mdatetime_as_string,\n\u001b[0;32m    216\u001b[0m )\n",
      "File \u001b[1;32mpyogrio/_io.pyx:1313\u001b[0m, in \u001b[0;36mpyogrio._io.ogr_read\u001b[1;34m()\u001b[0m\n",
      "File \u001b[1;32mpyogrio/_io.pyx:232\u001b[0m, in \u001b[0;36mpyogrio._io.ogr_open\u001b[1;34m()\u001b[0m\n",
      "\u001b[1;31mDataSourceError\u001b[0m: C:\\_Uni\\2025 S2\\GEOG 761\\Geog761-Project-WewillaskAI\\aklshp\\auckland_mainland_only.geojson: No such file or directory"
     ]
    }
   ],
   "source": [
    "# Plot 5000m Grid Patches with Original Auckland Boundary on Earth Engine Map\n",
    "# Jupyter Notebook\n",
    "\n",
    "import ee\n",
    "import geemap\n",
    "import geopandas as gpd\n",
    "import json\n",
    "\n",
    "# Initialize Earth Engine\n",
    "user = \"Sam\"\n",
    "if user == \"Peter\":\n",
    "    ee.Initialize(project=\"geog761-peag224\")\n",
    "elif user == \"Sam\":\n",
    "    ee.Initialize(project=\"intricate-aria-467322-j0\")\n",
    "\n",
    "\n",
    "# %% Read the 5000m grid GeoJSON\n",
    "print(\"Reading 5000m grid GeoJSON...\")\n",
    "grid = gpd.read_file(r'C:\\_Uni\\2025 S2\\GEOG 761\\Geog761-Project-WewillaskAI\\aklshp\\auckland_grid_5000m.geojson')\n",
    "print(f\"Grid loaded: {len(grid)} patches\")\n",
    "\n",
    "# Convert to WGS84 for Earth Engine\n",
    "grid_wgs84 = grid.to_crs('EPSG:4326')\n",
    "\n",
    "# %% Read the original Auckland boundary GeoJSON\n",
    "print(\"Reading original Auckland boundary...\")\n",
    "original_gdf = gpd.read_file(r'C:\\_Uni\\2025 S2\\GEOG 761\\Geog761-Project-WewillaskAI\\aklshp\\akl_mainland_only.geojson')\n",
    "original_wgs84 = original_gdf.to_crs('EPSG:4326')\n",
    "print(f\"✓ Original boundary loaded\")\n",
    "\n",
    "# %% Convert grid to Earth Engine FeatureCollection\n",
    "print(\"Converting to Earth Engine FeatureCollection...\")\n",
    "\n",
    "# Convert GeoDataFrame to GeoJSON dict\n",
    "geojson_dict = json.loads(grid_wgs84.to_json())\n",
    "\n",
    "# Create Earth Engine FeatureCollection\n",
    "grid_fc = ee.FeatureCollection(geojson_dict)\n",
    "\n",
    "print(f\"✓ Created FeatureCollection with {len(grid)} patches\")\n",
    "\n",
    "# %% Create Earth Engine Map\n",
    "print(\"\\nCreating Earth Engine map...\")\n",
    "\n",
    "# Create map centered on Auckland\n",
    "Map = geemap.Map(center=[-36.85, 174.76], zoom=10)\n",
    "\n",
    "# Add the original Auckland boundary (yellow outline)\n",
    "Map.add_gdf(original_wgs84, layer_name=\"Auckland Boundary\", \n",
    "            style={'color': 'yellow', 'weight': 4, 'fillColor': 'yellow', 'fillOpacity': 0.1})\n",
    "\n",
    "# Add your Sentinel-2 image (from your functions)\n",
    "# Uncomment these lines to add your actual S2 image:\n",
    "# from your_script import get_most_recent_sentinel2_auckland_ee, AUCKLAND_GEOMETRY\n",
    "# s2_image = get_most_recent_sentinel2_auckland_ee(AUCKLAND_GEOMETRY)\n",
    "# Map.addLayer(s2_image, {'min': 0, 'max': 3000, 'bands': ['B4', 'B3', 'B2']}, 'Sentinel-2')\n",
    "\n",
    "# Add the 5000m grid\n",
    "Map.addLayer(grid_fc, {'color': 'FF0000'}, '5000m Grid Patches', True, 0.8)\n",
    "\n",
    "# Style the grid boundaries\n",
    "empty_style = grid_fc.style(**{\n",
    "    'color': 'red',\n",
    "    'fillColor': '00000000',  # Transparent\n",
    "    'width': 3\n",
    "})\n",
    "Map.addLayer(empty_style, {}, 'Grid Boundaries')\n",
    "\n",
    "# Add satellite basemap\n",
    "Map.add_basemap('SATELLITE')\n",
    "\n",
    "print(f\"\\n✓ Map created with {len(grid)} patches\")\n",
    "print(f\"  Grid size: 5000m x 5000m\")\n",
    "print(f\"  Total patches: {len(grid)}\")\n",
    "print(f\"  Auckland boundary: yellow\")\n",
    "print(f\"  Grid patches: red\")\n",
    "\n",
    "# Display map\n",
    "Map"
   ]
  }
 ],
 "metadata": {
  "kernelspec": {
   "display_name": "base",
   "language": "python",
   "name": "python3"
  },
  "language_info": {
   "codemirror_mode": {
    "name": "ipython",
    "version": 3
   },
   "file_extension": ".py",
   "mimetype": "text/x-python",
   "name": "python",
   "nbconvert_exporter": "python",
   "pygments_lexer": "ipython3",
   "version": "3.12.3"
  }
 },
 "nbformat": 4,
 "nbformat_minor": 5
}
