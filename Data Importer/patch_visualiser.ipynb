{
 "cells": [
  {
   "cell_type": "code",
   "execution_count": 7,
   "id": "50898890",
   "metadata": {},
   "outputs": [
    {
     "data": {
      "text/html": [
       "\n",
       "            <style>\n",
       "                .geemap-dark {\n",
       "                    --jp-widgets-color: white;\n",
       "                    --jp-widgets-label-color: white;\n",
       "                    --jp-ui-font-color1: white;\n",
       "                    --jp-layout-color2: #454545;\n",
       "                    background-color: #383838;\n",
       "                }\n",
       "\n",
       "                .geemap-dark .jupyter-button {\n",
       "                    --jp-layout-color3: #383838;\n",
       "                }\n",
       "\n",
       "                .geemap-colab {\n",
       "                    background-color: var(--colab-primary-surface-color, white);\n",
       "                }\n",
       "\n",
       "                .geemap-colab .jupyter-button {\n",
       "                    --jp-layout-color3: var(--colab-primary-surface-color, white);\n",
       "                }\n",
       "            </style>\n",
       "            "
      ],
      "text/plain": [
       "<IPython.core.display.HTML object>"
      ]
     },
     "metadata": {},
     "output_type": "display_data"
    },
    {
     "name": "stdout",
     "output_type": "stream",
     "text": [
      "Reading 5000m grid GeoJSON...\n",
      "Grid loaded: 260 patches\n",
      "Reading original Auckland boundary...\n",
      "✓ Original boundary loaded\n",
      "Converting to Earth Engine FeatureCollection...\n",
      "✓ Created FeatureCollection with 260 patches\n",
      "\n",
      "Creating Earth Engine map...\n",
      "\n",
      "✓ Map created with 260 patches\n",
      "  Grid size: 5000m x 5000m\n",
      "  Total patches: 260\n",
      "  Auckland boundary: yellow\n",
      "  Grid patches: red\n"
     ]
    },
    {
     "data": {
      "application/vnd.jupyter.widget-view+json": {
       "model_id": "e51024d15c964aaeb22e73d0b297b370",
       "version_major": 2,
       "version_minor": 0
      },
      "text/plain": [
       "Map(center=[-36.85, 174.76], controls=(WidgetControl(options=['position', 'transparent_bg'], position='toprigh…"
      ]
     },
     "metadata": {},
     "output_type": "display_data"
    }
   ],
   "source": [
    "# Plot 5000m Grid Patches with Original Auckland Boundary on Earth Engine Map\n",
    "# Jupyter Notebook\n",
    "\n",
    "import ee\n",
    "import geemap\n",
    "import geopandas as gpd\n",
    "import json\n",
    "\n",
    "# Initialize Earth Engine\n",
    "user = \"Sam\"\n",
    "if user == \"Peter\":\n",
    "    ee.Initialize(project=\"geog761-peag224\")\n",
    "elif user == \"Sam\":\n",
    "    ee.Initialize(project=\"intricate-aria-467322-j0\")\n",
    "\n",
    "\n",
    "# %% Read the 5000m grid GeoJSON\n",
    "print(\"Reading 5000m grid GeoJSON...\")\n",
    "grid = gpd.read_file(r'C:\\_Uni\\2025 S2\\GEOG 761\\Geog761-Project-WewillaskAI\\aklshp\\auckland_grid_5000m.geojson')\n",
    "print(f\"Grid loaded: {len(grid)} patches\")\n",
    "\n",
    "# Convert to WGS84 for Earth Engine\n",
    "grid_wgs84 = grid.to_crs('EPSG:4326')\n",
    "\n",
    "# %% Read the original Auckland boundary GeoJSON\n",
    "print(\"Reading original Auckland boundary...\")\n",
    "original_gdf = gpd.read_file(r'C:\\_Uni\\2025 S2\\GEOG 761\\Geog761-Project-WewillaskAI\\aklshp\\akl_mainland_only.geojson')\n",
    "original_wgs84 = original_gdf.to_crs('EPSG:4326')\n",
    "print(f\"✓ Original boundary loaded\")\n",
    "\n",
    "# %% Convert grid to Earth Engine FeatureCollection\n",
    "print(\"Converting to Earth Engine FeatureCollection...\")\n",
    "\n",
    "# Convert GeoDataFrame to GeoJSON dict\n",
    "geojson_dict = json.loads(grid_wgs84.to_json())\n",
    "\n",
    "# Create Earth Engine FeatureCollection\n",
    "grid_fc = ee.FeatureCollection(geojson_dict)\n",
    "\n",
    "print(f\"✓ Created FeatureCollection with {len(grid)} patches\")\n",
    "\n",
    "# %% Create Earth Engine Map\n",
    "print(\"\\nCreating Earth Engine map...\")\n",
    "\n",
    "# Create map centered on Auckland\n",
    "Map = geemap.Map(center=[-36.85, 174.76], zoom=10)\n",
    "\n",
    "# Add the original Auckland boundary (yellow outline)\n",
    "Map.add_gdf(original_wgs84, layer_name=\"Auckland Boundary\", \n",
    "            style={'color': 'yellow', 'weight': 4, 'fillColor': 'yellow', 'fillOpacity': 0.1})\n",
    "\n",
    "# Add your Sentinel-2 image (from your functions)\n",
    "# Uncomment these lines to add your actual S2 image:\n",
    "# from your_script import get_most_recent_sentinel2_auckland_ee, AUCKLAND_GEOMETRY\n",
    "# s2_image = get_most_recent_sentinel2_auckland_ee(AUCKLAND_GEOMETRY)\n",
    "# Map.addLayer(s2_image, {'min': 0, 'max': 3000, 'bands': ['B4', 'B3', 'B2']}, 'Sentinel-2')\n",
    "\n",
    "# Add the 5000m grid\n",
    "Map.addLayer(grid_fc, {'color': 'FF0000'}, '5000m Grid Patches', True, 0.8)\n",
    "\n",
    "# Style the grid boundaries\n",
    "empty_style = grid_fc.style(**{\n",
    "    'color': 'red',\n",
    "    'fillColor': '00000000',  # Transparent\n",
    "    'width': 3\n",
    "})\n",
    "Map.addLayer(empty_style, {}, 'Grid Boundaries')\n",
    "\n",
    "# Add satellite basemap\n",
    "Map.add_basemap('SATELLITE')\n",
    "\n",
    "print(f\"\\n✓ Map created with {len(grid)} patches\")\n",
    "print(f\"  Grid size: 5000m x 5000m\")\n",
    "print(f\"  Total patches: {len(grid)}\")\n",
    "print(f\"  Auckland boundary: yellow\")\n",
    "print(f\"  Grid patches: red\")\n",
    "\n",
    "# Display map\n",
    "Map"
   ]
  }
 ],
 "metadata": {
  "kernelspec": {
   "display_name": "base",
   "language": "python",
   "name": "python3"
  },
  "language_info": {
   "codemirror_mode": {
    "name": "ipython",
    "version": 3
   },
   "file_extension": ".py",
   "mimetype": "text/x-python",
   "name": "python",
   "nbconvert_exporter": "python",
   "pygments_lexer": "ipython3",
   "version": "3.12.3"
  }
 },
 "nbformat": 4,
 "nbformat_minor": 5
}
